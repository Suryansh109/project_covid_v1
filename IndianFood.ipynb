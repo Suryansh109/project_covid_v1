{
  "nbformat": 4,
  "nbformat_minor": 0,
  "metadata": {
    "colab": {
      "name": "IndianFood.ipynb",
      "provenance": [],
      "authorship_tag": "ABX9TyP3SOip153MnOekWuxf4IDo",
      "include_colab_link": true
    },
    "kernelspec": {
      "name": "python3",
      "display_name": "Python 3"
    }
  },
  "cells": [
    {
      "cell_type": "markdown",
      "metadata": {
        "id": "view-in-github",
        "colab_type": "text"
      },
      "source": [
        "<a href=\"https://colab.research.google.com/github/Suryansh109/project_covid_v1/blob/patch-1/IndianFood.ipynb\" target=\"_parent\"><img src=\"https://colab.research.google.com/assets/colab-badge.svg\" alt=\"Open In Colab\"/></a>"
      ]
    },
    {
      "cell_type": "code",
      "metadata": {
        "id": "9kMyKvnTdERo"
      },
      "source": [
        "#setting up the spark and hadoop setup\r\n",
        "!apt-get install openjdk-8-jdk-headless -qq > /dev/null\r\n",
        "!wget -q https://downloads.apache.org/spark/spark-3.0.1/spark-3.0.1-bin-hadoop3.2.tgz\r\n",
        "!tar xf spark-3.0.1-bin-hadoop3.2.tgz\r\n",
        "!pip install -q findspark\r\n",
        "#installing kaggle library to fetch the dataset  directly from kaggle and load it colab cluster\r\n",
        "!pip install -q kaggle\r\n"
      ],
      "execution_count": 21,
      "outputs": []
    },
    {
      "cell_type": "code",
      "metadata": {
        "id": "eweoXIE-dqgo"
      },
      "source": [
        "import os\r\n",
        "os.environ[\"JAVA_HOME\"]=\"/usr/lib/jvm/java-8-openjdk-amd64\"\r\n",
        "os.environ[\"SPARK_HOME\"]=\"/content/spark-3.0.1-bin-hadoop3.2\"\r\n",
        "os.environ['PYSPARK_SUBMIT_ARGS'] = '--packages io.delta:delta-core_2.12:0.7.0 --conf spark.sql.extensions=io.delta.sql.DeltaSparkSessionExtension --conf spark.sql.catalog.spark_catalog=org.apache.spark.sql.delta.catalog.DeltaCatalog pyspark-shell'"
      ],
      "execution_count": 22,
      "outputs": []
    },
    {
      "cell_type": "code",
      "metadata": {
        "id": "dBZUALv4dyqY"
      },
      "source": [
        "import findspark\r\n",
        "findspark.init()"
      ],
      "execution_count": 23,
      "outputs": []
    },
    {
      "cell_type": "code",
      "metadata": {
        "id": "glUvAZNFd09q"
      },
      "source": [
        "from pyspark.sql import SparkSession\r\n",
        "from pyspark.sql.functions import *\r\n",
        "spark = SparkSession.builder.appName('delta_session').getOrCreate()"
      ],
      "execution_count": 24,
      "outputs": []
    },
    {
      "cell_type": "code",
      "metadata": {
        "colab": {
          "base_uri": "https://localhost:8080/",
          "height": 34
        },
        "id": "adcQS5UKeUyJ",
        "outputId": "a461a3ad-982b-439f-bfc9-fe329c552997"
      },
      "source": [
        "#from google.colab.output import eval_js\r\n",
        "#print(eval_js(\"google.colab.kernel.proxyPort(4040)\"))"
      ],
      "execution_count": 6,
      "outputs": [
        {
          "output_type": "stream",
          "text": [
            "https://ejwrqhwb1eg-496ff2e9c6d22116-4040-colab.googleusercontent.com/\n"
          ],
          "name": "stdout"
        }
      ]
    },
    {
      "cell_type": "code",
      "metadata": {
        "id": "U4hRrY8peibK"
      },
      "source": [
        "#to make kaggle.json directory \r\n",
        "!mkdir ~/.kaggle\r\n",
        "!touch ~/.kaggle/kaggle.json\r\n",
        "\r\n",
        "api_token = {\"username\":\"suryansh1001\",\"key\":\"4e01b75bf9b07a8f316ccec7388c6c6c\"}\r\n",
        "\r\n",
        "import json\r\n",
        "\r\n",
        "with open('/root/.kaggle/kaggle.json', 'w') as file:\r\n",
        "    json.dump(api_token, file)\r\n",
        "\r\n",
        "!chmod 600 ~/.kaggle/kaggle.json"
      ],
      "execution_count": 9,
      "outputs": []
    },
    {
      "cell_type": "code",
      "metadata": {
        "colab": {
          "base_uri": "https://localhost:8080/"
        },
        "id": "svOYChAtfAzp",
        "outputId": "dfcd25e9-1a4c-4ff4-996b-e796018f05f5"
      },
      "source": [
        "!kaggle datasets download -d nehaprabhavalkar/indian-food-101"
      ],
      "execution_count": 11,
      "outputs": [
        {
          "output_type": "stream",
          "text": [
            "Downloading indian-food-101.zip to /content\n",
            "\r  0% 0.00/6.79k [00:00<?, ?B/s]\n",
            "\r100% 6.79k/6.79k [00:00<00:00, 6.04MB/s]\n"
          ],
          "name": "stdout"
        }
      ]
    },
    {
      "cell_type": "code",
      "metadata": {
        "colab": {
          "base_uri": "https://localhost:8080/"
        },
        "id": "mtVIA70jhzsV",
        "outputId": "f102dc19-f9c5-45d8-c7c1-c03e49c93f59"
      },
      "source": [
        "!ls -ltr"
      ],
      "execution_count": 25,
      "outputs": [
        {
          "output_type": "stream",
          "text": [
            "total 437668\n",
            "drwxr-xr-x 13 1000 1000      4096 Aug 28 09:22 spark-3.0.1-bin-hadoop3.2\n",
            "-rw-r--r--  1 root root 224062525 Aug 28 09:25 spark-3.0.1-bin-hadoop3.2.tgz.1\n",
            "-rw-r--r--  1 root root 224062525 Aug 28 09:25 spark-3.0.1-bin-hadoop3.2.tgz\n",
            "-rw-r--r--  1 root root     28306 Sep 30 06:23 indian_food.csv\n",
            "drwxr-xr-x  1 root root      4096 Dec  2 22:04 sample_data\n",
            "-rw-r--r--  1 root root      6951 Dec 11 15:59 indian-food-101.zip\n"
          ],
          "name": "stdout"
        }
      ]
    },
    {
      "cell_type": "code",
      "metadata": {
        "colab": {
          "base_uri": "https://localhost:8080/"
        },
        "id": "t-vunXXMh5My",
        "outputId": "3bb714cc-e02e-4907-9ade-da3fc79ceed3"
      },
      "source": [
        "!unzip indian-food-101.zip"
      ],
      "execution_count": 13,
      "outputs": [
        {
          "output_type": "stream",
          "text": [
            "Archive:  indian-food-101.zip\n",
            "  inflating: indian_food.csv         \n"
          ],
          "name": "stdout"
        }
      ]
    },
    {
      "cell_type": "code",
      "metadata": {
        "id": "-PAS_v7hh9EO"
      },
      "source": [
        "raw_df=spark.read.option(\"header\",True).option(\"inferSchema\",True).csv(\"indian_food.csv\")"
      ],
      "execution_count": 26,
      "outputs": []
    },
    {
      "cell_type": "code",
      "metadata": {
        "id": "7fd7MMfYiKOr"
      },
      "source": [
        "from pyspark.sql import functions as f"
      ],
      "execution_count": 59,
      "outputs": []
    },
    {
      "cell_type": "code",
      "metadata": {
        "colab": {
          "base_uri": "https://localhost:8080/"
        },
        "id": "caPC2KSjyK97",
        "outputId": "2aedab59-3fff-4f53-ef3a-138990d04a65"
      },
      "source": [
        "raw_df.show()"
      ],
      "execution_count": 73,
      "outputs": [
        {
          "output_type": "stream",
          "text": [
            "+--------------+--------------------+----------+---------+---------+--------------+-------+-------------+------+\n",
            "|          name|         ingredients|      diet|prep_time|cook_time|flavor_profile| course|        state|region|\n",
            "+--------------+--------------------+----------+---------+---------+--------------+-------+-------------+------+\n",
            "|    Balu shahi|Maida flour, yogu...|vegetarian|       45|       25|         sweet|dessert|  West Bengal|  East|\n",
            "|        Boondi|Gram flour, ghee,...|vegetarian|       80|       30|         sweet|dessert|    Rajasthan|  West|\n",
            "|Gajar ka halwa|Carrots, milk, su...|vegetarian|       15|       60|         sweet|dessert|       Punjab| North|\n",
            "|        Ghevar|Flour, ghee, kewr...|vegetarian|       15|       30|         sweet|dessert|    Rajasthan|  West|\n",
            "|   Gulab jamun|Milk powder, plai...|vegetarian|       15|       40|         sweet|dessert|  West Bengal|  East|\n",
            "|        Imarti|Sugar syrup, lent...|vegetarian|       10|       50|         sweet|dessert|  West Bengal|  East|\n",
            "|        Jalebi|Maida, corn flour...|vegetarian|       10|       50|         sweet|dessert|Uttar Pradesh| North|\n",
            "|    Kaju katli|Cashews, ghee, ca...|vegetarian|       10|       20|         sweet|dessert|           -1|    -1|\n",
            "|      Kalakand|Milk, cottage che...|vegetarian|       20|       30|         sweet|dessert|  West Bengal|  East|\n",
            "|         Kheer|Milk, rice, sugar...|vegetarian|       10|       40|         sweet|dessert|           -1|    -1|\n",
            "|         Laddu|Gram flour, ghee,...|vegetarian|       10|       40|         sweet|dessert|           -1|    -1|\n",
            "|         Lassi|Yogurt, milk, nut...|vegetarian|        5|        5|         sweet|dessert|       Punjab| North|\n",
            "|     Nankhatai|Refined flour, be...|vegetarian|       20|       30|         sweet|dessert|           -1|    -1|\n",
            "|         Petha|Firm white pumpki...|vegetarian|       10|       30|         sweet|dessert|Uttar Pradesh| North|\n",
            "|        Phirni|   Rice, sugar, nuts|vegetarian|       30|       20|         sweet|dessert|       Odisha|  East|\n",
            "|         Rabri|Condensed milk, s...|vegetarian|       10|       45|         sweet|dessert|Uttar Pradesh| North|\n",
            "|        Sheera|Semolina, ghee, n...|vegetarian|       10|       25|         sweet|dessert|  Maharashtra|  West|\n",
            "|       Singori|Khoa, coconut, mo...|vegetarian|       10|       20|         sweet|dessert|  Uttarakhand| North|\n",
            "|   Sohan halwa|Corn flour, ghee,...|vegetarian|       10|       60|         sweet|dessert|Uttar Pradesh| North|\n",
            "|   Sohan papdi|Gram flour, ghee,...|vegetarian|       -1|       60|         sweet|dessert|  Maharashtra|  West|\n",
            "+--------------+--------------------+----------+---------+---------+--------------+-------+-------------+------+\n",
            "only showing top 20 rows\n",
            "\n"
          ],
          "name": "stdout"
        }
      ]
    },
    {
      "cell_type": "markdown",
      "metadata": {
        "id": "hHrjKOEEySme"
      },
      "source": [
        "quering the above dataset would be troublesome as the table is not normalized.\r\n",
        "\r\n"
      ]
    },
    {
      "cell_type": "code",
      "metadata": {
        "id": "u_xaBeaRje8I"
      },
      "source": [
        "processed_df=raw_df.withColumn(\"ingredients\",f.explode(f.split(col(\"ingredients\"),\",\")))"
      ],
      "execution_count": 69,
      "outputs": []
    },
    {
      "cell_type": "code",
      "metadata": {
        "colab": {
          "base_uri": "https://localhost:8080/"
        },
        "id": "PLyhMOSRnUFc",
        "outputId": "36f9c441-ef92-458d-bbbd-d6d9bb62afbe"
      },
      "source": [
        "processed_df.show()"
      ],
      "execution_count": 72,
      "outputs": [
        {
          "output_type": "stream",
          "text": [
            "+--------------+-----------------+----------+---------+---------+--------------+-------+-----------+------+\n",
            "|          name|      ingredients|      diet|prep_time|cook_time|flavor_profile| course|      state|region|\n",
            "+--------------+-----------------+----------+---------+---------+--------------+-------+-----------+------+\n",
            "|    Balu shahi|      Maida flour|vegetarian|       45|       25|         sweet|dessert|West Bengal|  East|\n",
            "|    Balu shahi|           yogurt|vegetarian|       45|       25|         sweet|dessert|West Bengal|  East|\n",
            "|    Balu shahi|              oil|vegetarian|       45|       25|         sweet|dessert|West Bengal|  East|\n",
            "|    Balu shahi|            sugar|vegetarian|       45|       25|         sweet|dessert|West Bengal|  East|\n",
            "|        Boondi|       Gram flour|vegetarian|       80|       30|         sweet|dessert|  Rajasthan|  West|\n",
            "|        Boondi|             ghee|vegetarian|       80|       30|         sweet|dessert|  Rajasthan|  West|\n",
            "|        Boondi|            sugar|vegetarian|       80|       30|         sweet|dessert|  Rajasthan|  West|\n",
            "|Gajar ka halwa|          Carrots|vegetarian|       15|       60|         sweet|dessert|     Punjab| North|\n",
            "|Gajar ka halwa|             milk|vegetarian|       15|       60|         sweet|dessert|     Punjab| North|\n",
            "|Gajar ka halwa|            sugar|vegetarian|       15|       60|         sweet|dessert|     Punjab| North|\n",
            "|Gajar ka halwa|             ghee|vegetarian|       15|       60|         sweet|dessert|     Punjab| North|\n",
            "|Gajar ka halwa|          cashews|vegetarian|       15|       60|         sweet|dessert|     Punjab| North|\n",
            "|Gajar ka halwa|          raisins|vegetarian|       15|       60|         sweet|dessert|     Punjab| North|\n",
            "|        Ghevar|            Flour|vegetarian|       15|       30|         sweet|dessert|  Rajasthan|  West|\n",
            "|        Ghevar|             ghee|vegetarian|       15|       30|         sweet|dessert|  Rajasthan|  West|\n",
            "|        Ghevar|            kewra|vegetarian|       15|       30|         sweet|dessert|  Rajasthan|  West|\n",
            "|        Ghevar|             milk|vegetarian|       15|       30|         sweet|dessert|  Rajasthan|  West|\n",
            "|        Ghevar| clarified butter|vegetarian|       15|       30|         sweet|dessert|  Rajasthan|  West|\n",
            "|        Ghevar|            sugar|vegetarian|       15|       30|         sweet|dessert|  Rajasthan|  West|\n",
            "|        Ghevar|          almonds|vegetarian|       15|       30|         sweet|dessert|  Rajasthan|  West|\n",
            "+--------------+-----------------+----------+---------+---------+--------------+-------+-----------+------+\n",
            "only showing top 20 rows\n",
            "\n"
          ],
          "name": "stdout"
        }
      ]
    },
    {
      "cell_type": "markdown",
      "metadata": {
        "id": "_lJ1ixXTytZJ"
      },
      "source": [
        "The dish with highest number of ingredients?"
      ]
    },
    {
      "cell_type": "code",
      "metadata": {
        "id": "wuwSA9TMy5WC"
      },
      "source": [
        "highest_ingredients_food=processed_df.groupby(\"name\").count().orderBy(\"count\",ascending=False)"
      ],
      "execution_count": 76,
      "outputs": []
    },
    {
      "cell_type": "code",
      "metadata": {
        "colab": {
          "base_uri": "https://localhost:8080/"
        },
        "id": "rhXVT95WzEJW",
        "outputId": "0e811fb3-55ba-4922-dde3-30f1c30e499e"
      },
      "source": [
        "highest_ingredients_food.show()"
      ],
      "execution_count": 78,
      "outputs": [
        {
          "output_type": "stream",
          "text": [
            "+-----------------+-----+\n",
            "|             name|count|\n",
            "+-----------------+-----+\n",
            "|           Ghevar|   10|\n",
            "|           Jalebi|    9|\n",
            "|      Gulab jamun|    8|\n",
            "|       Mysore pak|    8|\n",
            "|   Obbattu holige|    7|\n",
            "|     Bandar laddu|    7|\n",
            "|       Maach Jhol|    6|\n",
            "|     Chana masala|    6|\n",
            "|   Chicken razala|    6|\n",
            "|Sabudana Khichadi|    6|\n",
            "|       Aloo matar|    6|\n",
            "|            Galho|    6|\n",
            "|   Gajar ka halwa|    6|\n",
            "|     Thayir sadam|    6|\n",
            "|      Koldil Duck|    6|\n",
            "|        Nankhatai|    6|\n",
            "|         Vindaloo|    6|\n",
            "|        Cham cham|    6|\n",
            "|   Butter chicken|    6|\n",
            "|         Beef Fry|    6|\n",
            "+-----------------+-----+\n",
            "only showing top 20 rows\n",
            "\n"
          ],
          "name": "stdout"
        }
      ]
    },
    {
      "cell_type": "markdown",
      "metadata": {
        "id": "r0yARQTczhSB"
      },
      "source": [
        "Which ingredient has been used most in foods?"
      ]
    },
    {
      "cell_type": "code",
      "metadata": {
        "colab": {
          "base_uri": "https://localhost:8080/"
        },
        "id": "g7ovKQzRzspP",
        "outputId": "b0c5ed00-5d6f-459a-ad27-c10826d73e3f"
      },
      "source": [
        "processed_df.groupBy(\"ingredients\").agg(f.collect_list(\"name\")).withColumn(\"count\",col(\"collect_list(name)\")).show()"
      ],
      "execution_count": 93,
      "outputs": [
        {
          "output_type": "stream",
          "text": [
            "+------------------+--------------------+--------------------+\n",
            "|       ingredients|  collect_list(name)|               count|\n",
            "+------------------+--------------------+--------------------+\n",
            "|             beans|[Kootu, Poriyal, ...|[Kootu, Poriyal, ...|\n",
            "|         coriander|[Paratha, Bengena...|[Paratha, Bengena...|\n",
            "| frozen green peas|    [Mushroom matar]|    [Mushroom matar]|\n",
            "| whole wheat flour|     [Fara, Muthiya]|     [Fara, Muthiya]|\n",
            "|     Banana flower|    [Koldil Chicken]|    [Koldil Chicken]|\n",
            "|       alum powder|             [Petha]|             [Petha]|\n",
            "|           mustard|[Poriyal, Zunka, ...|[Poriyal, Zunka, ...|\n",
            "|         Moong dal|[Daal baati churm...|[Daal baati churm...|\n",
            "|      dried fruits|             [Kheer]|             [Kheer]|\n",
            "|             Palak|[Makki di roti sa...|[Makki di roti sa...|\n",
            "|  musk melon seeds|          [Panjeeri]|          [Panjeeri]|\n",
            "| whole wheat bread|     [Chicken Tikka]|     [Chicken Tikka]|\n",
            "|         red chili|    [Keerai poriyal]|    [Keerai poriyal]|\n",
            "|       Rice flakes|           [Surnoli]|           [Surnoli]|\n",
            "|       jowar flour|            [Thepla]|            [Thepla]|\n",
            "|               oil|[Mag Dhokli, Fars...|[Mag Dhokli, Fars...|\n",
            "|            boondi|         [Pani puri]|         [Pani puri]|\n",
            "|          cinnamon|[Pindi chana, Ron...|[Pindi chana, Ron...|\n",
            "|      dinner rolls|         [Pav Bhaji]|         [Pav Bhaji]|\n",
            "|              pork|             [Galho]|             [Galho]|\n",
            "+------------------+--------------------+--------------------+\n",
            "only showing top 20 rows\n",
            "\n"
          ],
          "name": "stdout"
        }
      ]
    },
    {
      "cell_type": "code",
      "metadata": {
        "id": "9fwmZz-iz_wH"
      },
      "source": [
        ""
      ],
      "execution_count": null,
      "outputs": []
    }
  ]
}