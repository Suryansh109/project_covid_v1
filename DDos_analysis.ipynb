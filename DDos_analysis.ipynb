{
  "nbformat": 4,
  "nbformat_minor": 0,
  "metadata": {
    "colab": {
      "name": "DDos_analysis.ipynb",
      "provenance": [],
      "collapsed_sections": [],
      "authorship_tag": "ABX9TyMRl0jkngrvnqqX9CyJRKEo",
      "include_colab_link": true
    },
    "kernelspec": {
      "name": "python3",
      "display_name": "Python 3"
    }
  },
  "cells": [
    {
      "cell_type": "markdown",
      "metadata": {
        "id": "view-in-github",
        "colab_type": "text"
      },
      "source": [
        "<a href=\"https://colab.research.google.com/github/Suryansh109/project_covid_v1/blob/master/DDos_analysis.ipynb\" target=\"_parent\"><img src=\"https://colab.research.google.com/assets/colab-badge.svg\" alt=\"Open In Colab\"/></a>"
      ]
    },
    {
      "cell_type": "code",
      "metadata": {
        "id": "YKCJmk8-n-E5"
      },
      "source": [
        "#setting up the spark and hadoop setup\n",
        "!apt-get install openjdk-8-jdk-headless -qq > /dev/null\n",
        "!wget -q https://downloads.apache.org/spark/spark-3.0.1/spark-3.0.1-bin-hadoop3.2.tgz\n",
        "!tar xf spark-3.0.1-bin-hadoop3.2.tgz\n",
        "!pip install -q findspark\n",
        "#installing kaggle library to fetch the dataset  directly from kaggle and load it colab cluster\n",
        "!pip install -q kaggle"
      ],
      "execution_count": null,
      "outputs": []
    },
    {
      "cell_type": "code",
      "metadata": {
        "id": "FBr17NxIo0Z6"
      },
      "source": [
        "import os\n",
        "\n",
        "os.environ[\"JAVA_HOME\"]=\"/usr/lib/jvm/java-8-openjdk-amd64\"\n",
        "os.environ[\"SPARK_HOME\"]=\"/content/spark-3.0.1-bin-hadoop3.2\"\n"
      ],
      "execution_count": null,
      "outputs": []
    },
    {
      "cell_type": "code",
      "metadata": {
        "id": "snivLMsopR_e"
      },
      "source": [
        "#finding spark and setting up the spark session.\n",
        "import findspark\n",
        "findspark.init()\n",
        "from pyspark.sql import SparkSession\n",
        "spark = SparkSession.builder.master(\"local[*]\").getOrCreate()"
      ],
      "execution_count": null,
      "outputs": []
    },
    {
      "cell_type": "code",
      "metadata": {
        "colab": {
          "base_uri": "https://localhost:8080/"
        },
        "id": "nLlOMRvoso0V",
        "outputId": "bb0368cc-84a9-4b0d-97c9-6179dc619520"
      },
      "source": [
        "#to make kaggle.json directory \n",
        "!mkdir ~/.kaggle\n",
        "!touch ~/.kaggle/kaggle.json\n",
        "\n",
        "api_token = {\"username\":\"suryansh1001\",\"key\":\"9814931985ed3e83f62d48c7bb58f7b2\"}\n",
        "\n",
        "import json\n",
        "\n",
        "with open('/root/.kaggle/kaggle.json', 'w') as file:\n",
        "    json.dump(api_token, file)\n",
        "\n",
        "!chmod 600 ~/.kaggle/kaggle.json"
      ],
      "execution_count": null,
      "outputs": [
        {
          "output_type": "stream",
          "text": [
            "mkdir: cannot create directory ‘/root/.kaggle’: File exists\n"
          ],
          "name": "stdout"
        }
      ]
    },
    {
      "cell_type": "code",
      "metadata": {
        "colab": {
          "base_uri": "https://localhost:8080/"
        },
        "id": "bL_kk2sBwX3K",
        "outputId": "a569780b-9b4c-4c2a-ce37-fe287ffbdbb3"
      },
      "source": [
        "# this command helps to download the  dataset directly from the kaggle database\n",
        "!kaggle datasets download -d devendra416/ddos-datasets"
      ],
      "execution_count": null,
      "outputs": [
        {
          "output_type": "stream",
          "text": [
            "Downloading ddos-datasets.zip to /content\n",
            "100% 2.67G/2.68G [00:33<00:00, 93.0MB/s]\n",
            "100% 2.68G/2.68G [00:33<00:00, 86.0MB/s]\n"
          ],
          "name": "stdout"
        }
      ]
    },
    {
      "cell_type": "code",
      "metadata": {
        "colab": {
          "base_uri": "https://localhost:8080/"
        },
        "id": "8HfV2dYWyRzY",
        "outputId": "fb25f174-f804-48cc-a716-15c2c73abfe6"
      },
      "source": [
        "#!mkdir ddos_raw_data\n",
        "!unzip ddos-datasets.zip -d ddos_raw_data"
      ],
      "execution_count": null,
      "outputs": [
        {
          "output_type": "stream",
          "text": [
            "Archive:  ddos-datasets.zip\n",
            "  inflating: ddos_raw_data/ddos_balanced/final_dataset.csv  \n",
            "  inflating: ddos_raw_data/ddos_imbalanced/unbalaced_20_80_dataset.csv  \n"
          ],
          "name": "stdout"
        }
      ]
    },
    {
      "cell_type": "code",
      "metadata": {
        "colab": {
          "base_uri": "https://localhost:8080/"
        },
        "id": "2miTxoO8yV4l",
        "outputId": "68b2cfc2-cbdf-4b07-823c-f9fb20e552b2"
      },
      "source": [
        "!ls -ltr  ddos_raw_data/*/*"
      ],
      "execution_count": null,
      "outputs": [
        {
          "output_type": "stream",
          "text": [
            "-rw-r--r-- 1 root root 6794744782 Oct 22  2019 ddos_raw_data/ddos_balanced/final_dataset.csv\n",
            "-rw-r--r-- 1 root root 4121715182 Oct 22  2019 ddos_raw_data/ddos_imbalanced/unbalaced_20_80_dataset.csv\n"
          ],
          "name": "stdout"
        }
      ]
    },
    {
      "cell_type": "code",
      "metadata": {
        "id": "B1rXBvuz0N40"
      },
      "source": [
        "balanced_data=spark.read.option(\"header\",True).option(\"inferSchema\",True).format(\"csv\").load(\"ddos_raw_data/ddos_balanced/final_dataset.csv\")"
      ],
      "execution_count": 52,
      "outputs": []
    },
    {
      "cell_type": "code",
      "metadata": {
        "id": "ldE-PAf108cF"
      },
      "source": [
        "from pyspark.sql import functions"
      ],
      "execution_count": null,
      "outputs": []
    },
    {
      "cell_type": "code",
      "metadata": {
        "colab": {
          "base_uri": "https://localhost:8080/"
        },
        "id": "pmNI2Al31tRK",
        "outputId": "f27fcbf5-8773-4103-ab81-89aa33b02207"
      },
      "source": [
        "#to perform  any arithmetical operation the datatypes of schema should be understood, hence checking out the schema.\n",
        "balanced_data.printSchema()"
      ],
      "execution_count": 53,
      "outputs": [
        {
          "output_type": "stream",
          "text": [
            "root\n",
            " |-- _c0: integer (nullable = true)\n",
            " |-- Flow ID: string (nullable = true)\n",
            " |-- Src IP: string (nullable = true)\n",
            " |-- Src Port: integer (nullable = true)\n",
            " |-- Dst IP: string (nullable = true)\n",
            " |-- Dst Port: integer (nullable = true)\n",
            " |-- Protocol: integer (nullable = true)\n",
            " |-- Timestamp: string (nullable = true)\n",
            " |-- Flow Duration: integer (nullable = true)\n",
            " |-- Tot Fwd Pkts: integer (nullable = true)\n",
            " |-- Tot Bwd Pkts: integer (nullable = true)\n",
            " |-- TotLen Fwd Pkts: double (nullable = true)\n",
            " |-- TotLen Bwd Pkts: double (nullable = true)\n",
            " |-- Fwd Pkt Len Max: double (nullable = true)\n",
            " |-- Fwd Pkt Len Min: double (nullable = true)\n",
            " |-- Fwd Pkt Len Mean: double (nullable = true)\n",
            " |-- Fwd Pkt Len Std: double (nullable = true)\n",
            " |-- Bwd Pkt Len Max: double (nullable = true)\n",
            " |-- Bwd Pkt Len Min: double (nullable = true)\n",
            " |-- Bwd Pkt Len Mean: double (nullable = true)\n",
            " |-- Bwd Pkt Len Std: double (nullable = true)\n",
            " |-- Flow Byts/s: double (nullable = true)\n",
            " |-- Flow Pkts/s: double (nullable = true)\n",
            " |-- Flow IAT Mean: double (nullable = true)\n",
            " |-- Flow IAT Std: double (nullable = true)\n",
            " |-- Flow IAT Max: double (nullable = true)\n",
            " |-- Flow IAT Min: double (nullable = true)\n",
            " |-- Fwd IAT Tot: double (nullable = true)\n",
            " |-- Fwd IAT Mean: double (nullable = true)\n",
            " |-- Fwd IAT Std: double (nullable = true)\n",
            " |-- Fwd IAT Max: double (nullable = true)\n",
            " |-- Fwd IAT Min: double (nullable = true)\n",
            " |-- Bwd IAT Tot: double (nullable = true)\n",
            " |-- Bwd IAT Mean: double (nullable = true)\n",
            " |-- Bwd IAT Std: double (nullable = true)\n",
            " |-- Bwd IAT Max: double (nullable = true)\n",
            " |-- Bwd IAT Min: double (nullable = true)\n",
            " |-- Fwd PSH Flags: integer (nullable = true)\n",
            " |-- Bwd PSH Flags: integer (nullable = true)\n",
            " |-- Fwd URG Flags: integer (nullable = true)\n",
            " |-- Bwd URG Flags: integer (nullable = true)\n",
            " |-- Fwd Header Len: integer (nullable = true)\n",
            " |-- Bwd Header Len: integer (nullable = true)\n",
            " |-- Fwd Pkts/s: double (nullable = true)\n",
            " |-- Bwd Pkts/s: double (nullable = true)\n",
            " |-- Pkt Len Min: double (nullable = true)\n",
            " |-- Pkt Len Max: double (nullable = true)\n",
            " |-- Pkt Len Mean: double (nullable = true)\n",
            " |-- Pkt Len Std: double (nullable = true)\n",
            " |-- Pkt Len Var: double (nullable = true)\n",
            " |-- FIN Flag Cnt: integer (nullable = true)\n",
            " |-- SYN Flag Cnt: integer (nullable = true)\n",
            " |-- RST Flag Cnt: integer (nullable = true)\n",
            " |-- PSH Flag Cnt: integer (nullable = true)\n",
            " |-- ACK Flag Cnt: integer (nullable = true)\n",
            " |-- URG Flag Cnt: integer (nullable = true)\n",
            " |-- CWE Flag Count: integer (nullable = true)\n",
            " |-- ECE Flag Cnt: integer (nullable = true)\n",
            " |-- Down/Up Ratio: double (nullable = true)\n",
            " |-- Pkt Size Avg: double (nullable = true)\n",
            " |-- Fwd Seg Size Avg: double (nullable = true)\n",
            " |-- Bwd Seg Size Avg: double (nullable = true)\n",
            " |-- Fwd Byts/b Avg: integer (nullable = true)\n",
            " |-- Fwd Pkts/b Avg: integer (nullable = true)\n",
            " |-- Fwd Blk Rate Avg: integer (nullable = true)\n",
            " |-- Bwd Byts/b Avg: integer (nullable = true)\n",
            " |-- Bwd Pkts/b Avg: integer (nullable = true)\n",
            " |-- Bwd Blk Rate Avg: integer (nullable = true)\n",
            " |-- Subflow Fwd Pkts: integer (nullable = true)\n",
            " |-- Subflow Fwd Byts: integer (nullable = true)\n",
            " |-- Subflow Bwd Pkts: integer (nullable = true)\n",
            " |-- Subflow Bwd Byts: integer (nullable = true)\n",
            " |-- Init Fwd Win Byts: integer (nullable = true)\n",
            " |-- Init Bwd Win Byts: integer (nullable = true)\n",
            " |-- Fwd Act Data Pkts: integer (nullable = true)\n",
            " |-- Fwd Seg Size Min: integer (nullable = true)\n",
            " |-- Active Mean: double (nullable = true)\n",
            " |-- Active Std: double (nullable = true)\n",
            " |-- Active Max: double (nullable = true)\n",
            " |-- Active Min: double (nullable = true)\n",
            " |-- Idle Mean: double (nullable = true)\n",
            " |-- Idle Std: double (nullable = true)\n",
            " |-- Idle Max: double (nullable = true)\n",
            " |-- Idle Min: double (nullable = true)\n",
            " |-- Label: string (nullable = true)\n",
            "\n"
          ],
          "name": "stdout"
        }
      ]
    },
    {
      "cell_type": "code",
      "metadata": {
        "colab": {
          "base_uri": "https://localhost:8080/"
        },
        "id": "Pw8PQ6sG1orr",
        "outputId": "2c549a49-8eff-4871-81ed-e3410349879f"
      },
      "source": [
        "balanced_data.count()"
      ],
      "execution_count": null,
      "outputs": [
        {
          "output_type": "execute_result",
          "data": {
            "text/plain": [
              "12794627"
            ]
          },
          "metadata": {
            "tags": []
          },
          "execution_count": 34
        }
      ]
    },
    {
      "cell_type": "code",
      "metadata": {
        "colab": {
          "base_uri": "https://localhost:8080/"
        },
        "id": "hQzhkOH8oqaF",
        "outputId": "1e47af01-7647-46cc-f1db-955c164617b2"
      },
      "source": [
        "balanced_data.show()"
      ],
      "execution_count": null,
      "outputs": [
        {
          "output_type": "stream",
          "text": [
            "+---+--------------------+-------------+--------+------------+--------+--------+--------------------+-------------+------------+------------+---------------+---------------+---------------+---------------+------------------+------------------+---------------+---------------+------------------+------------------+------------------+------------------+------------------+------------------+------------+------------+-----------+-----------------+------------------+-----------+-----------+-----------+-----------------+------------------+-----------+-----------+-------------+-------------+-------------+-------------+--------------+--------------+------------------+------------------+-----------+-----------+-----------------+------------------+-----------------+------------+------------+------------+------------+------------+------------+--------------+------------+-------------+------------------+------------------+------------------+--------------+--------------+----------------+--------------+--------------+----------------+----------------+----------------+----------------+----------------+-----------------+-----------------+-----------------+----------------+-----------+----------+----------+----------+---------+--------+--------+--------+-----+\n",
            "|_c0|             Flow ID|       Src IP|Src Port|      Dst IP|Dst Port|Protocol|           Timestamp|Flow Duration|Tot Fwd Pkts|Tot Bwd Pkts|TotLen Fwd Pkts|TotLen Bwd Pkts|Fwd Pkt Len Max|Fwd Pkt Len Min|  Fwd Pkt Len Mean|   Fwd Pkt Len Std|Bwd Pkt Len Max|Bwd Pkt Len Min|  Bwd Pkt Len Mean|   Bwd Pkt Len Std|       Flow Byts/s|       Flow Pkts/s|     Flow IAT Mean|      Flow IAT Std|Flow IAT Max|Flow IAT Min|Fwd IAT Tot|     Fwd IAT Mean|       Fwd IAT Std|Fwd IAT Max|Fwd IAT Min|Bwd IAT Tot|     Bwd IAT Mean|       Bwd IAT Std|Bwd IAT Max|Bwd IAT Min|Fwd PSH Flags|Bwd PSH Flags|Fwd URG Flags|Bwd URG Flags|Fwd Header Len|Bwd Header Len|        Fwd Pkts/s|        Bwd Pkts/s|Pkt Len Min|Pkt Len Max|     Pkt Len Mean|       Pkt Len Std|      Pkt Len Var|FIN Flag Cnt|SYN Flag Cnt|RST Flag Cnt|PSH Flag Cnt|ACK Flag Cnt|URG Flag Cnt|CWE Flag Count|ECE Flag Cnt|Down/Up Ratio|      Pkt Size Avg|  Fwd Seg Size Avg|  Bwd Seg Size Avg|Fwd Byts/b Avg|Fwd Pkts/b Avg|Fwd Blk Rate Avg|Bwd Byts/b Avg|Bwd Pkts/b Avg|Bwd Blk Rate Avg|Subflow Fwd Pkts|Subflow Fwd Byts|Subflow Bwd Pkts|Subflow Bwd Byts|Init Fwd Win Byts|Init Bwd Win Byts|Fwd Act Data Pkts|Fwd Seg Size Min|Active Mean|Active Std|Active Max|Active Min|Idle Mean|Idle Std|Idle Max|Idle Min|Label|\n",
            "+---+--------------------+-------------+--------+------------+--------+--------+--------------------+-------------+------------+------------+---------------+---------------+---------------+---------------+------------------+------------------+---------------+---------------+------------------+------------------+------------------+------------------+------------------+------------------+------------+------------+-----------+-----------------+------------------+-----------+-----------+-----------+-----------------+------------------+-----------+-----------+-------------+-------------+-------------+-------------+--------------+--------------+------------------+------------------+-----------+-----------+-----------------+------------------+-----------------+------------+------------+------------+------------+------------+------------+--------------+------------+-------------+------------------+------------------+------------------+--------------+--------------+----------------+--------------+--------------+----------------+----------------+----------------+----------------+----------------+-----------------+-----------------+-----------------+----------------+-----------+----------+----------+----------+---------+--------+--------+--------+-----+\n",
            "|624|192.168.4.118-203...|192.168.4.118|    4504|203.73.24.75|      80|       6|12/06/2010 08:34:...|      3974862|          29|          44|           86.0|        59811.0|           86.0|            0.0|2.9655172413793096|15.969799083226464|         1460.0|            0.0|1359.3409090909086|372.02718975289076|15068.950821437324|18.365417466065487| 55206.41666666666|195478.31665363663|   1566821.0|       167.0|  3735347.0|        133405.25| 341775.6887123293|  1805015.0|      167.0|  3974862.0|92438.65116279072| 248174.8205743075|  1566821.0|     3997.0|            0|            0|            0|            0|           768|           896| 7.295850774190399|11.069566691875089|        0.0|     1460.0|809.4189189189186| 728.8624277195806| 531240.438541281|           0|           1|           0|           0|           0|           0|             0|           0|          1.0| 820.5068493150685|2.9655172413793105| 1359.340909090909|             0|             0|               0|             0|             0|               0|              29|              86|              44|           59811|               -1|             5840|                1|               0|        0.0|       0.0|       0.0|       0.0|      0.0|     0.0|     0.0|     0.0| ddos|\n",
            "|625|192.168.4.118-203...|192.168.4.118|    4504|203.73.24.75|      80|       6|12/06/2010 08:34:...|           63|           1|           1|            0.0|            0.0|            0.0|            0.0|               0.0|               0.0|            0.0|            0.0|               0.0|               0.0|               0.0|31746.031746031742|              63.0|               0.0|        63.0|        63.0|        0.0|              0.0|               0.0|        0.0|        0.0|        0.0|              0.0|               0.0|        0.0|        0.0|            0|            0|            0|            0|            20|            20|15873.015873015871|15873.015873015871|        0.0|        0.0|              0.0|               0.0|              0.0|           0|           0|           0|           0|           1|           0|             0|           0|          1.0|               0.0|               0.0|               0.0|             0|             0|               0|             0|             0|               0|               1|               0|               1|               0|               -1|            17520|                0|               0|        0.0|       0.0|       0.0|       0.0|      0.0|     0.0|     0.0|     0.0| ddos|\n",
            "|626|192.168.4.118-203...|192.168.4.118|    4505|203.73.24.75|      80|       6|12/06/2010 08:34:...|       476078|           2|           6|           86.0|         3037.0|           86.0|            0.0|              43.0|  60.8111831820431|         1460.0|            0.0|506.16666666666674|  740.224402912162| 6559.849436436886| 16.80396909750083| 68011.14285714286|110862.70745149693|    232203.0|         6.0|      134.0|            134.0|               0.0|      134.0|      134.0|   476078.0|          95215.6|123467.30357993569|   232601.0|        6.0|            0|            0|            0|            0|            40|           136| 4.200992274375206|12.602976823125625|        0.0|     1460.0|            347.0| 632.5152172082503|         400075.5|           0|           1|           0|           0|           0|           0|             0|           0|          3.0|           390.375|              43.0|506.16666666666674|             0|             0|               0|             0|             0|               0|               2|              86|               6|            3037|               -1|             5840|                1|               0|        0.0|       0.0|       0.0|       0.0|      0.0|     0.0|     0.0|     0.0| ddos|\n",
            "|627|192.168.4.118-203...|192.168.4.118|    4505|203.73.24.75|      80|       6|12/06/2010 08:34:...|          151|           2|           1|            0.0|            0.0|            0.0|            0.0|               0.0|               0.0|            0.0|            0.0|               0.0|               0.0|               0.0| 19867.54966887417|              75.5| 98.28784258493008|       145.0|         6.0|      145.0|            145.0|               0.0|      145.0|      145.0|        0.0|              0.0|               0.0|        0.0|        0.0|            0|            0|            0|            0|            40|            20|13245.033112582783| 6622.516556291392|        0.0|        0.0|              0.0|               0.0|              0.0|           0|           0|           0|           0|           1|           0|             0|           0|          0.0|               0.0|               0.0|               0.0|             0|             0|               0|             0|             0|               0|               2|               0|               1|               0|               -1|            17520|                0|               0|        0.0|       0.0|       0.0|       0.0|      0.0|     0.0|     0.0|     0.0| ddos|\n",
            "|628|192.168.4.118-203...|192.168.4.118|    4506|203.73.24.75|      80|       6|12/06/2010 08:34:...|       472507|           2|           5|           73.0|         1050.0|           73.0|            0.0|              36.5| 51.61879502661797|         1050.0|            0.0|             210.0| 469.5742752749558|2376.6843665808124|14.814595339328307| 78751.16666666669|118675.49225078724|    232355.0|         7.0|      179.0|            179.0|               0.0|      179.0|      179.0|   472507.0|        118126.75|131726.85733333448|   232875.0|        7.0|            0|            0|            0|            0|            40|           116| 4.232741525522373|10.581853813805932|        0.0|     1050.0|          140.375| 368.4306244057353|       135741.125|           0|           1|           0|           0|           0|           0|             0|           0|          2.0|160.42857142857142|              36.5|             210.0|             0|             0|               0|             0|             0|               0|               2|              73|               5|            1050|               -1|             5840|                1|               0|        0.0|       0.0|       0.0|       0.0|      0.0|     0.0|     0.0|     0.0| ddos|\n",
            "|629|192.168.4.118-203...|192.168.4.118|    4506|203.73.24.75|      80|       6|12/06/2010 08:34:...|          138|           1|           1|            0.0|            0.0|            0.0|            0.0|               0.0|               0.0|            0.0|            0.0|               0.0|               0.0|               0.0|14492.753623188406|             138.0|               0.0|       138.0|       138.0|        0.0|              0.0|               0.0|        0.0|        0.0|        0.0|              0.0|               0.0|        0.0|        0.0|            0|            0|            0|            0|            20|            20| 7246.376811594203| 7246.376811594203|        0.0|        0.0|              0.0|               0.0|              0.0|           0|           0|           0|           0|           1|           0|             0|           0|          1.0|               0.0|               0.0|               0.0|             0|             0|               0|             0|             0|               0|               1|               0|               1|               0|               -1|            16470|                0|               0|        0.0|       0.0|       0.0|       0.0|      0.0|     0.0|     0.0|     0.0| ddos|\n",
            "|630|192.168.4.118-203...|192.168.4.118|    4507|203.73.24.75|      80|       6|12/06/2010 08:34:...|       469596|           2|           5|           69.0|          890.0|           69.0|            0.0|              34.5|48.790367901871775|          890.0|            0.0|             178.0|398.02009999496255|2042.1809385088445|14.906430208093765|           78266.0|118162.33215200182|    231830.0|         7.0|      142.0|            142.0|               0.0|      142.0|      142.0|   469596.0|         117399.0|131247.33116524693|   232353.0|        7.0|            0|            0|            0|            0|            40|           116| 4.258980059455362|10.647450148638404|        0.0|      890.0|          119.875|312.11281728613085|97414.41071428572|           0|           1|           0|           0|           0|           0|             0|           0|          2.0|             137.0|              34.5|             178.0|             0|             0|               0|             0|             0|               0|               2|              69|               5|             890|               -1|             5840|                1|               0|        0.0|       0.0|       0.0|       0.0|      0.0|     0.0|     0.0|     0.0| ddos|\n",
            "|631|192.168.4.118-203...|192.168.4.118|    4507|203.73.24.75|      80|       6|12/06/2010 08:34:...|         1978|           1|           1|            0.0|            0.0|            0.0|            0.0|               0.0|               0.0|            0.0|            0.0|               0.0|               0.0|               0.0|1011.1223458038423|            1978.0|               0.0|      1978.0|      1978.0|        0.0|              0.0|               0.0|        0.0|        0.0|        0.0|              0.0|               0.0|        0.0|        0.0|            0|            0|            0|            0|            20|            20|505.56117290192117|505.56117290192117|        0.0|        0.0|              0.0|               0.0|              0.0|           0|           0|           0|           0|           1|           0|             0|           0|          1.0|               0.0|               0.0|               0.0|             0|             0|               0|             0|             0|               0|               1|               0|               1|               0|               -1|            16630|                0|               0|        0.0|       0.0|       0.0|       0.0|      0.0|     0.0|     0.0|     0.0| ddos|\n",
            "|632|192.168.4.118-203...|192.168.4.118|    4508|203.73.24.75|      80|       6|12/06/2010 08:34:...|       468629|           2|           5|           70.0|          669.0|           70.0|            0.0|              35.0| 49.49747468305833|          669.0|            0.0|             133.8| 299.1858953894718|1576.9403942137594|14.937189119751446| 78104.83333333334|119118.09406201338|    235236.0|         6.0|       92.0|             92.0|               0.0|       92.0|       92.0|   468629.0|        117157.25|132649.37390322154|   235540.0|        6.0|            0|            0|            0|            0|            40|           116| 4.267768319928984|10.669420799822461|        0.0|      669.0|           92.375|234.27574565029136|54885.12500000001|           0|           1|           0|           0|           0|           0|             0|           0|          2.0|105.57142857142857|              35.0|             133.8|             0|             0|               0|             0|             0|               0|               2|              70|               5|             669|               -1|             5840|                1|               0|        0.0|       0.0|       0.0|       0.0|      0.0|     0.0|     0.0|     0.0| ddos|\n",
            "|633|192.168.4.118-203...|192.168.4.118|    4508|203.73.24.75|      80|       6|12/06/2010 08:34:...|          102|           1|           1|            0.0|            0.0|            0.0|            0.0|               0.0|               0.0|            0.0|            0.0|               0.0|               0.0|               0.0|19607.843137254906|             102.0|               0.0|       102.0|       102.0|        0.0|              0.0|               0.0|        0.0|        0.0|        0.0|              0.0|               0.0|        0.0|        0.0|            0|            0|            0|            0|            20|            20| 9803.921568627453| 9803.921568627453|        0.0|        0.0|              0.0|               0.0|              0.0|           0|           0|           0|           0|           1|           0|             0|           0|          1.0|               0.0|               0.0|               0.0|             0|             0|               0|             0|             0|               0|               1|               0|               1|               0|               -1|            16851|                0|               0|        0.0|       0.0|       0.0|       0.0|      0.0|     0.0|     0.0|     0.0| ddos|\n",
            "|636|192.168.4.118-203...|192.168.4.118|    4509|203.73.24.75|      80|       6|12/06/2010 08:34:...|      1434885|          14|          25|           63.0|        31473.0|           63.0|            0.0| 4.499999999999999|16.837458240482732|         1460.0|            0.0|           1258.92| 491.7053589295117| 21978.06792878872|27.179878526850587| 37760.13157894735| 78207.73823473626|    241160.0|       142.0|  1178154.0|90627.23076923077|106869.98664354882|   262982.0|      142.0|  1434885.0|59786.87500000003| 95568.93616666019|   241160.0|     3748.0|            0|            0|            0|            0|           280|           516| 9.756879471177133| 17.42299905567345|        0.0|     1460.0|            788.4| 726.1693593518927|527321.9384615384|           0|           1|           0|           0|           0|           0|             0|           0|          1.0| 808.6153846153846|               4.5|           1258.92|             0|             0|               0|             0|             0|               0|              14|              63|              25|           31473|               -1|             5840|                1|               0|        0.0|       0.0|       0.0|       0.0|      0.0|     0.0|     0.0|     0.0| ddos|\n",
            "|637|192.168.4.118-203...|192.168.4.118|    4509|203.73.24.75|      80|       6|12/06/2010 08:34:...|           39|           1|           1|            0.0|            0.0|            0.0|            0.0|               0.0|               0.0|            0.0|            0.0|               0.0|               0.0|               0.0| 51282.05128205128|              39.0|               0.0|        39.0|        39.0|        0.0|              0.0|               0.0|        0.0|        0.0|        0.0|              0.0|               0.0|        0.0|        0.0|            0|            0|            0|            0|            20|            20| 25641.02564102564| 25641.02564102564|        0.0|        0.0|              0.0|               0.0|              0.0|           0|           0|           0|           0|           1|           0|             0|           0|          1.0|               0.0|               0.0|               0.0|             0|             0|               0|             0|             0|               0|               1|               0|               1|               0|               -1|            16707|                0|               0|        0.0|       0.0|       0.0|       0.0|      0.0|     0.0|     0.0|     0.0| ddos|\n",
            "|638|192.168.4.118-203...|192.168.4.118|    4510|203.73.24.75|      80|       6|12/06/2010 08:34:...|       966411|           6|          12|           63.0|        11803.0|           63.0|            0.0|              10.5| 25.71964229922337|         1460.0|            0.0| 983.5833333333333| 704.4465859270258|12278.419844144986|18.625615809422694| 56847.70588235294|100400.58460223519|    238499.0|         6.0|   732476.0|         146495.2|129599.20072168655|   248169.0|      135.0|   966411.0|87855.54545454544|115204.12733523366|   239854.0|        6.0|            0|            0|            0|            0|           120|           256|   6.2085386031409|  12.4170772062818|        0.0|     1460.0|624.5263157894738| 732.6234722193817|536737.1520467835|           0|           1|           0|           0|           0|           0|             0|           0|          2.0| 659.2222222222222|              10.5| 983.5833333333336|             0|             0|               0|             0|             0|               0|               6|              63|              12|           11803|               -1|             5840|                1|               0|        0.0|       0.0|       0.0|       0.0|      0.0|     0.0|     0.0|     0.0| ddos|\n",
            "|639|192.168.4.118-203...|192.168.4.118|    4510|203.73.24.75|      80|       6|12/06/2010 08:34:...|            6|           1|           1|            0.0|            0.0|            0.0|            0.0|               0.0|               0.0|            0.0|            0.0|               0.0|               0.0|               0.0|333333.33333333326|               6.0|               0.0|         6.0|         6.0|        0.0|              0.0|               0.0|        0.0|        0.0|        0.0|              0.0|               0.0|        0.0|        0.0|            0|            0|            0|            0|            20|            20|166666.66666666663|166666.66666666663|        0.0|        0.0|              0.0|               0.0|              0.0|           0|           0|           0|           0|           1|           0|             0|           0|          1.0|               0.0|               0.0|               0.0|             0|             0|               0|             0|             0|               0|               1|               0|               1|               0|               -1|            17520|                0|               0|        0.0|       0.0|       0.0|       0.0|      0.0|     0.0|     0.0|     0.0| ddos|\n",
            "|640|192.168.4.118-203...|192.168.4.118|    4511|203.73.24.75|      80|       6|12/06/2010 08:34:...|       510476|           6|          11|           70.0|        11403.0|           70.0|            0.0|11.666666666666664|28.577380332470412|         1460.0|            0.0|1036.6363636363637| 670.8147691765996| 22475.10166981406| 33.30225123218329|31904.750000000004| 78336.85343055338|    233822.0|       133.0|   276999.0|          55399.8|111345.10637966989|   254475.0|      133.0|   510476.0|51047.60000000001| 95784.02735691957|   234382.0|     3253.0|            0|            0|            0|            0|           120|           236|11.753735729005866|21.548515503177423|        0.0|     1460.0|637.3888888888888| 728.1251620662391|530166.2516339871|           0|           1|           0|           0|           0|           0|             0|           0|          1.0| 674.8823529411766|11.666666666666664|1036.6363636363637|             0|             0|               0|             0|             0|               0|               6|              70|              11|           11403|               -1|             5840|                1|               0|        0.0|       0.0|       0.0|       0.0|      0.0|     0.0|     0.0|     0.0| ddos|\n",
            "|641|192.168.4.118-203...|192.168.4.118|    4511|203.73.24.75|      80|       6|12/06/2010 08:34:...|            6|           1|           1|            0.0|            0.0|            0.0|            0.0|               0.0|               0.0|            0.0|            0.0|               0.0|               0.0|               0.0|333333.33333333326|               6.0|               0.0|         6.0|         6.0|        0.0|              0.0|               0.0|        0.0|        0.0|        0.0|              0.0|               0.0|        0.0|        0.0|            0|            0|            0|            0|            20|            20|166666.66666666663|166666.66666666663|        0.0|        0.0|              0.0|               0.0|              0.0|           0|           0|           0|           0|           1|           0|             0|           0|          1.0|               0.0|               0.0|               0.0|             0|             0|               0|             0|             0|               0|               1|               0|               1|               0|               -1|            16337|                0|               0|        0.0|       0.0|       0.0|       0.0|      0.0|     0.0|     0.0|     0.0| ddos|\n",
            "|644|192.168.4.118-203...|192.168.4.118|    4512|203.73.24.75|      80|       6|12/06/2010 08:34:...|       513876|           6|          11|           70.0|        11403.0|           70.0|            0.0|11.666666666666664|28.577380332470412|         1460.0|            0.0|1036.6363636363637| 670.8147691765996| 22326.39780803151| 33.08191081116845|          32117.25| 77781.35894201559|    231567.0|       136.0|   281121.0|          56224.2|113058.83149581905|   258371.0|      136.0|   513876.0|          51387.6| 94937.27717486834|   232090.0|     3250.0|            0|            0|            0|            0|           120|           236|11.675968521588864| 21.40594228957959|        0.0|     1460.0|637.3888888888888| 728.1251620662391|530166.2516339871|           0|           1|           0|           0|           0|           0|             0|           0|          1.0| 674.8823529411766|11.666666666666664|1036.6363636363637|             0|             0|               0|             0|             0|               0|               6|              70|              11|           11403|               -1|             5840|                1|               0|        0.0|       0.0|       0.0|       0.0|      0.0|     0.0|     0.0|     0.0| ddos|\n",
            "|645|192.168.4.118-203...|192.168.4.118|    4512|203.73.24.75|      80|       6|12/06/2010 08:34:...|            6|           1|           1|            0.0|            0.0|            0.0|            0.0|               0.0|               0.0|            0.0|            0.0|               0.0|               0.0|               0.0|333333.33333333326|               6.0|               0.0|         6.0|         6.0|        0.0|              0.0|               0.0|        0.0|        0.0|        0.0|              0.0|               0.0|        0.0|        0.0|            0|            0|            0|            0|            20|            20|166666.66666666663|166666.66666666663|        0.0|        0.0|              0.0|               0.0|              0.0|           0|           0|           0|           0|           1|           0|             0|           0|          1.0|               0.0|               0.0|               0.0|             0|             0|               0|             0|             0|               0|               1|               0|               1|               0|               -1|            16337|                0|               0|        0.0|       0.0|       0.0|       0.0|      0.0|     0.0|     0.0|     0.0| ddos|\n",
            "|646|192.168.4.118-203...|192.168.4.118|    4513|203.73.24.75|      80|       6|12/06/2010 08:34:...|       506932|           6|          11|           70.0|        11403.0|           70.0|            0.0|11.666666666666664|28.577380332470412|         1460.0|            0.0|1036.6363636363637| 670.8147691765996|22632.226807540254| 33.53506979239819|          31683.25|  77944.2838532756|    231716.0|       121.0|   274077.0|          54815.4|110050.36338104476|   251583.0|      121.0|   506932.0|50693.19999999999| 95294.54670628092|   232156.0|     3250.0|            0|            0|            0|            0|           120|           236|11.835906985552304| 21.69916280684589|        0.0|     1460.0|637.3888888888888| 728.1251620662391|530166.2516339871|           0|           1|           0|           0|           0|           0|             0|           0|          1.0| 674.8823529411766|11.666666666666664|1036.6363636363637|             0|             0|               0|             0|             0|               0|               6|              70|              11|           11403|               -1|             5840|                1|               0|        0.0|       0.0|       0.0|       0.0|      0.0|     0.0|     0.0|     0.0| ddos|\n",
            "|647|192.168.4.118-203...|192.168.4.118|    4513|203.73.24.75|      80|       6|12/06/2010 08:34:...|            6|           1|           1|            0.0|            0.0|            0.0|            0.0|               0.0|               0.0|            0.0|            0.0|               0.0|               0.0|               0.0|333333.33333333326|               6.0|               0.0|         6.0|         6.0|        0.0|              0.0|               0.0|        0.0|        0.0|        0.0|              0.0|               0.0|        0.0|        0.0|            0|            0|            0|            0|            20|            20|166666.66666666663|166666.66666666663|        0.0|        0.0|              0.0|               0.0|              0.0|           0|           0|           0|           0|           1|           0|             0|           0|          1.0|               0.0|               0.0|               0.0|             0|             0|               0|             0|             0|               0|               1|               0|               1|               0|               -1|            16337|                0|               0|        0.0|       0.0|       0.0|       0.0|      0.0|     0.0|     0.0|     0.0| ddos|\n",
            "+---+--------------------+-------------+--------+------------+--------+--------+--------------------+-------------+------------+------------+---------------+---------------+---------------+---------------+------------------+------------------+---------------+---------------+------------------+------------------+------------------+------------------+------------------+------------------+------------+------------+-----------+-----------------+------------------+-----------+-----------+-----------+-----------------+------------------+-----------+-----------+-------------+-------------+-------------+-------------+--------------+--------------+------------------+------------------+-----------+-----------+-----------------+------------------+-----------------+------------+------------+------------+------------+------------+------------+--------------+------------+-------------+------------------+------------------+------------------+--------------+--------------+----------------+--------------+--------------+----------------+----------------+----------------+----------------+----------------+-----------------+-----------------+-----------------+----------------+-----------+----------+----------+----------+---------+--------+--------+--------+-----+\n",
            "only showing top 20 rows\n",
            "\n"
          ],
          "name": "stdout"
        }
      ]
    },
    {
      "cell_type": "code",
      "metadata": {
        "id": "hN1MxESs2KJR"
      },
      "source": [
        "#checking different attacks with highest on the Top \n",
        "attack_group=balanced_data.groupBy(\"label\").count().orderBy(\"count\",ascending=False)"
      ],
      "execution_count": null,
      "outputs": []
    },
    {
      "cell_type": "code",
      "metadata": {
        "colab": {
          "base_uri": "https://localhost:8080/"
        },
        "id": "vvynCm5T5yjG",
        "outputId": "6e9b59db-f23a-4fae-a83e-cbc430c58531"
      },
      "source": [
        "attack_group.cache()"
      ],
      "execution_count": null,
      "outputs": [
        {
          "output_type": "execute_result",
          "data": {
            "text/plain": [
              "DataFrame[label: string, count: bigint]"
            ]
          },
          "metadata": {
            "tags": []
          },
          "execution_count": 38
        }
      ]
    },
    {
      "cell_type": "code",
      "metadata": {
        "id": "-7WNeoRKAsmC"
      },
      "source": [
        "import pandas as pd"
      ],
      "execution_count": null,
      "outputs": []
    },
    {
      "cell_type": "code",
      "metadata": {
        "id": "Ie3IVclUCDgL"
      },
      "source": [
        "attack_group_pd=attack_group.toPandas()"
      ],
      "execution_count": null,
      "outputs": []
    },
    {
      "cell_type": "code",
      "metadata": {
        "colab": {
          "base_uri": "https://localhost:8080/",
          "height": 315
        },
        "id": "Pe42PtevEIlC",
        "outputId": "a6ebe934-91bb-490a-bf91-38cbcae6cd9e"
      },
      "source": [
        "# from the available dataset,we can infer that both the types of attack are almost in vicinity.\n",
        "import matplotlib.pyplot as plt\n",
        "attack_group_pd.plot(kind='bar',x='label',y='count')\n",
        "plt.show()"
      ],
      "execution_count": null,
      "outputs": [
        {
          "output_type": "display_data",
          "data": {
            "image/png": "[encoded data removed]",
            "text/plain": [
              "<Figure size 432x288 with 1 Axes>"
            ]
          },
          "metadata": {
            "tags": [],
            "needs_background": "light"
          }
        }
      ]
    },
    {
      "cell_type": "code",
      "metadata": {
        "colab": {
          "base_uri": "https://localhost:8080/",
          "height": 111
        },
        "id": "XEFe48ynEhzu",
        "outputId": "007aec21-3699-4423-8392-9b9e7c306e28"
      },
      "source": [
        "attack_group_pd"
      ],
      "execution_count": null,
      "outputs": [
        {
          "output_type": "execute_result",
          "data": {
            "text/html": [
              "<div>\n",
              "<style scoped>\n",
              "    .dataframe tbody tr th:only-of-type {\n",
              "        vertical-align: middle;\n",
              "    }\n",
              "\n",
              "    .dataframe tbody tr th {\n",
              "        vertical-align: top;\n",
              "    }\n",
              "\n",
              "    .dataframe thead th {\n",
              "        text-align: right;\n",
              "    }\n",
              "</style>\n",
              "<table border=\"1\" class=\"dataframe\">\n",
              "  <thead>\n",
              "    <tr style=\"text-align: right;\">\n",
              "      <th></th>\n",
              "      <th>label</th>\n",
              "      <th>count</th>\n",
              "    </tr>\n",
              "  </thead>\n",
              "  <tbody>\n",
              "    <tr>\n",
              "      <th>0</th>\n",
              "      <td>ddos</td>\n",
              "      <td>6472647</td>\n",
              "    </tr>\n",
              "    <tr>\n",
              "      <th>1</th>\n",
              "      <td>Benign</td>\n",
              "      <td>6321980</td>\n",
              "    </tr>\n",
              "  </tbody>\n",
              "</table>\n",
              "</div>"
            ],
            "text/plain": [
              "    label    count\n",
              "0    ddos  6472647\n",
              "1  Benign  6321980"
            ]
          },
          "metadata": {
            "tags": []
          },
          "execution_count": 42
        }
      ]
    },
    {
      "cell_type": "code",
      "metadata": {
        "id": "B2fmhVpKVuSp",
        "colab": {
          "base_uri": "https://localhost:8080/"
        },
        "outputId": "65fdac9c-6458-4ff7-feb2-1b5ba792d1ad"
      },
      "source": [
        "#checking flowid through which the types of attacks has been done most\n",
        "balanced_data.groupBy(\"label\").agg({\"Flow Duration\":\"sum\"}).show()\n"
      ],
      "execution_count": 45,
      "outputs": [
        {
          "output_type": "stream",
          "text": [
            "+------+------------------+\n",
            "| label|sum(Flow Duration)|\n",
            "+------+------------------+\n",
            "|  ddos|2.0193915332131E13|\n",
            "|Benign|8.4972712104317E13|\n",
            "+------+------------------+\n",
            "\n"
          ],
          "name": "stdout"
        }
      ]
    },
    {
      "cell_type": "code",
      "metadata": {
        "id": "0NPGXNZXu0lM"
      },
      "source": [
        "from pyspark.sql.types import *\n",
        "from matplotlib import pyplot\n",
        "hourly_flow=balanced_data.select(functions.from_unixtime(functions.unix_timestamp('Timestamp', 'MM/dd/yyyy hh:mm:ss a')).cast(TimestampType()).alias(\"timestamp\"),\"Flow Duration\").groupBy(functions.hour(\"timestamp\"))\\\n",
        ".agg({\"Flow Duration\":\"sum\"}).orderBy(\"hour(timestamp)\",ascending=True).toPandas()"
      ],
      "execution_count": 71,
      "outputs": []
    },
    {
      "cell_type": "code",
      "metadata": {
        "colab": {
          "base_uri": "https://localhost:8080/"
        },
        "id": "50ITGRaa2XWz",
        "outputId": "265d60d5-49ca-412b-d91b-aa035249ca4c"
      },
      "source": [
        "#pyplot.scatter(hourly_flow[\"hour(timestamp)\"],hourly_flow[\"sum(Flow Duration)\"])\n",
        "\n",
        "hourly_flow.rename(columns={'hour(timestamp)':'hours','sum(Flow Duration)':'total_flow_duration_per_hour'},inplace=True)"
      ],
      "execution_count": 111,
      "outputs": [
        {
          "output_type": "stream",
          "text": [
            "/usr/local/lib/python3.6/dist-packages/pandas/core/frame.py:4308: SettingWithCopyWarning: \n",
            "A value is trying to be set on a copy of a slice from a DataFrame\n",
            "\n",
            "See the caveats in the documentation: https://pandas.pydata.org/pandas-docs/stable/user_guide/indexing.html#returning-a-view-versus-a-copy\n",
            "  errors=errors,\n"
          ],
          "name": "stderr"
        }
      ]
    },
    {
      "cell_type": "code",
      "metadata": {
        "id": "1wRYQ003Fd-7"
      },
      "source": [
        "hourly_flow=hourly_flow.dropna()"
      ],
      "execution_count": 109,
      "outputs": []
    },
    {
      "cell_type": "code",
      "metadata": {
        "colab": {
          "base_uri": "https://localhost:8080/",
          "height": 303
        },
        "id": "fDQ8aO6k-_ng",
        "outputId": "9b1a2c55-87b0-4895-c473-fe0dea8b5725"
      },
      "source": [
        "import matplotlib.pyplot as plt\n",
        "hourly_flow.plot(kind='bar',x='hours',y='total_flow_duration_per_hour')\n",
        "plt.show()"
      ],
      "execution_count": 112,
      "outputs": [
        {
          "output_type": "display_data",
          "data": {
            "image/png": "[encoded data removed]",
            "text/plain": [
              "<Figure size 432x288 with 1 Axes>"
            ]
          },
          "metadata": {
            "tags": [],
            "needs_background": "light"
          }
        }
      ]
    },
    {
      "cell_type": "code",
      "metadata": {
        "id": "nDbzneQPDhLw"
      },
      "source": [
        ""
      ],
      "execution_count": null,
      "outputs": []
    }
  ]
}