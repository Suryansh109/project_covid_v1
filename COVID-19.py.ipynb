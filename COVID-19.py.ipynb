{
 "cells": [
  {
   "cell_type": "code",
   "execution_count": 1,
   "metadata": {},
   "outputs": [],
   "source": [
    "from bs4 import BeautifulSoup\n",
    "import requests\n",
    "import json\n",
    "import pdfkit\n",
    "import matplotlib.pyplot as plt\n",
    "from reportlab.pdfgen import canvas"
   ]
  },
  {
   "cell_type": "code",
   "execution_count": 2,
   "metadata": {},
   "outputs": [],
   "source": [
    "news_url='https://www.deccanherald.com/national/coronavirus-india-update-state-wise-total-number-of-confirmed-cases-deaths-812987.html'"
   ]
  },
  {
   "cell_type": "code",
   "execution_count": 3,
   "metadata": {},
   "outputs": [],
   "source": [
    "html_text= requests.get(news_url).text"
   ]
  },
  {
   "cell_type": "code",
   "execution_count": 4,
   "metadata": {},
   "outputs": [],
   "source": [
    "soup=BeautifulSoup(html_text,'html5lib')"
   ]
  },
  {
   "cell_type": "code",
   "execution_count": 5,
   "metadata": {},
   "outputs": [],
   "source": [
    "new_soup = soup.find_all('div', class_='field-item even')"
   ]
  },
  {
   "cell_type": "code",
   "execution_count": 6,
   "metadata": {},
   "outputs": [],
   "source": [
    "main_content=new_soup[1].text"
   ]
  },
  {
   "cell_type": "code",
   "execution_count": 7,
   "metadata": {},
   "outputs": [],
   "source": [
    "main_content_list=main_content.split(\"\\n\")"
   ]
  },
  {
   "cell_type": "code",
   "execution_count": 8,
   "metadata": {},
   "outputs": [
    {
     "data": {
      "text/plain": [
       "''"
      ]
     },
     "execution_count": 8,
     "metadata": {},
     "output_type": "execute_result"
    }
   ],
   "source": [
    "main_content_list.pop(main_content_list.index(''))"
   ]
  },
  {
   "cell_type": "code",
   "execution_count": 9,
   "metadata": {},
   "outputs": [
    {
     "data": {
      "text/plain": [
       "['The spread of novel coronavirus in India has created panic in the country. After the first confirmed positive case was reported on January 30 in Kerala, the epidemic has reached many other cities in the country, infecting several people.',\n",
       " 'The novel coronavirus, which originated in China, has claimed thousands of lives across the globe. With no known cure so far for the disease, COVID-19 has become a major issue for the entire world.',\n",
       " 'Follow live updates of coronavirus cases in India here',\n",
       " 'While the impact of the novel coronavirus has been the most in China and Italy, India also is within its grasp. After making its presence in Kerala first, the novel coronavirus reached other cities/regions including Bengaluru, Pune, Delhi, Jaipur, Agra, Hyderabad, Jammu and Kashmir among others.',\n",
       " '',\n",
       " 'Courtesy: DataLEADS',\n",
       " 'While the Centre and state governments have been trying hard to check the spread of coronavirus by tracking, isolating and treating the infected persons, the gradual rise of the epidemic in India is worrisome.',\n",
       " 'Below is the list of total positive cases in India and state-wise impact of the epidemic, as per the Union Ministry of Health and sources (the list will be regularly updated).',\n",
       " 'Total number of positive cases in India: 307 as of\\xa0March 21',\n",
       " 'Total deaths in India: 4',\n",
       " 'Karnataka: 1',\n",
       " 'Delhi: 1',\n",
       " 'Maharashtra: 1',\n",
       " 'Punjab: 1',\n",
       " 'States/UT with confirmed positive cases:',\n",
       " 'Kerala: 52\\xa0(including 8\\xa0foreigners)',\n",
       " 'Punjab: 6',\n",
       " 'Delhi: 20\\xa0(including one foreigner)',\n",
       " 'Jammu and Kashmir: 4',\n",
       " 'Ladakh: 13',\n",
       " 'Rajasthan: 23\\xa0(including 2 foreigners)',\n",
       " 'Uttar Pradesh: 27\\xa0(including one foreigner)',\n",
       " 'Maharashtra: 64\\xa0(including 3 foreigners)',\n",
       " 'Karnataka: 19',\n",
       " 'Tamil Nadu: 6 (including 3 foreigners)',\n",
       " 'Telangana: 17\\xa0(including 2 foreigners)',\n",
       " 'Haryana: 17\\xa0(including 14 foreigners)',\n",
       " 'Andhra Pradesh: 3',\n",
       " 'Himachal Pradesh: 2',\n",
       " 'Gujarat: 13',\n",
       " 'Uttarakhand: 3',\n",
       " 'Odisha: 2',\n",
       " 'West Bengal: 3',\n",
       " 'Chandigarh: 8',\n",
       " 'Chhattisgarh: 1',\n",
       " 'Madhya Pradesh: 4',\n",
       " 'No. of people discharged:\\xa023',\n",
       " '',\n",
       " '']"
      ]
     },
     "execution_count": 9,
     "metadata": {},
     "output_type": "execute_result"
    }
   ],
   "source": [
    "main_content_list"
   ]
  },
  {
   "cell_type": "code",
   "execution_count": 10,
   "metadata": {},
   "outputs": [],
   "source": [
    "content=main_content_list[:main_content_list.index('Courtesy: DataLEADS'):]\n"
   ]
  },
  {
   "cell_type": "code",
   "execution_count": 11,
   "metadata": {},
   "outputs": [],
   "source": [
    "state_list=main_content_list[main_content_list.index('Courtesy: DataLEADS')+1:]"
   ]
  },
  {
   "cell_type": "code",
   "execution_count": 12,
   "metadata": {},
   "outputs": [],
   "source": [
    "Total_case=state_list[0]\n",
    "total_deaths=state_list[1]\n",
    "total_recovered=state_list[-1]"
   ]
  },
  {
   "cell_type": "code",
   "execution_count": 13,
   "metadata": {},
   "outputs": [],
   "source": [
    "death_cnt_by_states=state_list[2:state_list.index('States/UT with confirmed positive cases:')]"
   ]
  },
  {
   "cell_type": "code",
   "execution_count": 14,
   "metadata": {},
   "outputs": [
    {
     "data": {
      "text/plain": [
       "['Total number of positive cases in India: 307 as of\\xa0March 21',\n",
       " 'Total deaths in India: 4',\n",
       " 'Karnataka: 1',\n",
       " 'Delhi: 1',\n",
       " 'Maharashtra: 1',\n",
       " 'Punjab: 1']"
      ]
     },
     "execution_count": 14,
     "metadata": {},
     "output_type": "execute_result"
    }
   ],
   "source": [
    "death_cnt_by_states"
   ]
  },
  {
   "cell_type": "code",
   "execution_count": 15,
   "metadata": {},
   "outputs": [
    {
     "name": "stdout",
     "output_type": "stream",
     "text": [
      "Total number of positive cases in India: 307 as of March 21\n"
     ]
    }
   ],
   "source": [
    "Totl_pstv_case=death_cnt_by_states[0]\n",
    "Totl_case_str=str(Totl_pstv_case)\n",
    "\n",
    "Totl_case,Totl_cnt=Totl_pstv_case.split(':')\n",
    "print(Totl_case_str)"
   ]
  },
  {
   "cell_type": "code",
   "execution_count": 16,
   "metadata": {},
   "outputs": [],
   "source": [
    "pstve_case_by_states=state_list[state_list.index('States/UT with confirmed positive cases:')+1:-1]"
   ]
  },
  {
   "cell_type": "code",
   "execution_count": 17,
   "metadata": {},
   "outputs": [
    {
     "data": {
      "text/plain": [
       "['Kerala: 52\\xa0(including 8\\xa0foreigners)',\n",
       " 'Punjab: 6',\n",
       " 'Delhi: 20\\xa0(including one foreigner)',\n",
       " 'Jammu and Kashmir: 4',\n",
       " 'Ladakh: 13',\n",
       " 'Rajasthan: 23\\xa0(including 2 foreigners)',\n",
       " 'Uttar Pradesh: 27\\xa0(including one foreigner)',\n",
       " 'Maharashtra: 64\\xa0(including 3 foreigners)',\n",
       " 'Karnataka: 19',\n",
       " 'Tamil Nadu: 6 (including 3 foreigners)',\n",
       " 'Telangana: 17\\xa0(including 2 foreigners)',\n",
       " 'Haryana: 17\\xa0(including 14 foreigners)',\n",
       " 'Andhra Pradesh: 3',\n",
       " 'Himachal Pradesh: 2',\n",
       " 'Gujarat: 13',\n",
       " 'Uttarakhand: 3',\n",
       " 'Odisha: 2',\n",
       " 'West Bengal: 3',\n",
       " 'Chandigarh: 8',\n",
       " 'Chhattisgarh: 1',\n",
       " 'Madhya Pradesh: 4',\n",
       " 'No. of people discharged:\\xa023',\n",
       " '']"
      ]
     },
     "execution_count": 17,
     "metadata": {},
     "output_type": "execute_result"
    }
   ],
   "source": [
    "pstve_case_by_states"
   ]
  },
  {
   "cell_type": "code",
   "execution_count": 18,
   "metadata": {},
   "outputs": [],
   "source": [
    "str_pstve_case=str(pstve_case_by_states)"
   ]
  },
  {
   "cell_type": "code",
   "execution_count": 19,
   "metadata": {
    "scrolled": true
   },
   "outputs": [
    {
     "data": {
      "text/plain": [
       "'Kerala: 52 (including 8 foreigners), Punjab: 6, Delhi: 20 (including one foreigner), Jammu and Kashmir: 4, Ladakh: 13, Rajasthan: 23 (including 2 foreigners), Uttar Pradesh: 27 (including one foreigner), Maharashtra: 64 (including 3 foreigners), Karnataka: 19, Tamil Nadu: 6 (including 3 foreigners), Telangana: 17 (including 2 foreigners), Haryana: 17 (including 14 foreigners), Andhra Pradesh: 3, Himachal Pradesh: 2, Gujarat: 13, Uttarakhand: 3, Odisha: 2, West Bengal: 3, Chandigarh: 8, Chhattisgarh: 1, Madhya Pradesh: 4, No. of people discharged: 23,'"
      ]
     },
     "execution_count": 19,
     "metadata": {},
     "output_type": "execute_result"
    }
   ],
   "source": [
    "str_pstve_list=str_pstve_case.replace('\\\\xa0',' ')\n",
    "str_pstve_list=str_pstve_list.replace('[','')\n",
    "str_pstve_list=str_pstve_list.replace(']','')\n",
    "str_pstve_list=str_pstve_list.replace(\"'\",'')\n",
    "str_pstve_list.strip()"
   ]
  },
  {
   "cell_type": "code",
   "execution_count": 20,
   "metadata": {},
   "outputs": [],
   "source": [
    "pstv_list= str_pstve_list.split(',')"
   ]
  },
  {
   "cell_type": "code",
   "execution_count": 21,
   "metadata": {},
   "outputs": [
    {
     "data": {
      "text/plain": [
       "['Kerala: 52 (including 8 foreigners)',\n",
       " ' Punjab: 6',\n",
       " ' Delhi: 20 (including one foreigner)',\n",
       " ' Jammu and Kashmir: 4',\n",
       " ' Ladakh: 13',\n",
       " ' Rajasthan: 23 (including 2 foreigners)',\n",
       " ' Uttar Pradesh: 27 (including one foreigner)',\n",
       " ' Maharashtra: 64 (including 3 foreigners)',\n",
       " ' Karnataka: 19',\n",
       " ' Tamil Nadu: 6 (including 3 foreigners)',\n",
       " ' Telangana: 17 (including 2 foreigners)',\n",
       " ' Haryana: 17 (including 14 foreigners)',\n",
       " ' Andhra Pradesh: 3',\n",
       " ' Himachal Pradesh: 2',\n",
       " ' Gujarat: 13',\n",
       " ' Uttarakhand: 3',\n",
       " ' Odisha: 2',\n",
       " ' West Bengal: 3',\n",
       " ' Chandigarh: 8',\n",
       " ' Chhattisgarh: 1',\n",
       " ' Madhya Pradesh: 4',\n",
       " ' No. of people discharged: 23',\n",
       " ' ']"
      ]
     },
     "execution_count": 21,
     "metadata": {},
     "output_type": "execute_result"
    }
   ],
   "source": [
    "pstv_list"
   ]
  },
  {
   "cell_type": "code",
   "execution_count": 22,
   "metadata": {},
   "outputs": [
    {
     "data": {
      "text/plain": [
       "['Kerala: 52 (including 8 foreigners)',\n",
       " ' Punjab: 6',\n",
       " ' Delhi: 20 (including one foreigner)',\n",
       " ' Jammu and Kashmir: 4',\n",
       " ' Ladakh: 13',\n",
       " ' Rajasthan: 23 (including 2 foreigners)',\n",
       " ' Uttar Pradesh: 27 (including one foreigner)',\n",
       " ' Maharashtra: 64 (including 3 foreigners)',\n",
       " ' Karnataka: 19',\n",
       " ' Tamil Nadu: 6 (including 3 foreigners)',\n",
       " ' Telangana: 17 (including 2 foreigners)',\n",
       " ' Haryana: 17 (including 14 foreigners)',\n",
       " ' Andhra Pradesh: 3',\n",
       " ' Himachal Pradesh: 2',\n",
       " ' Gujarat: 13',\n",
       " ' Uttarakhand: 3',\n",
       " ' Odisha: 2',\n",
       " ' West Bengal: 3',\n",
       " ' Chandigarh: 8',\n",
       " ' Chhattisgarh: 1',\n",
       " ' Madhya Pradesh: 4',\n",
       " ' No. of people discharged: 23',\n",
       " ' ']"
      ]
     },
     "execution_count": 22,
     "metadata": {},
     "output_type": "execute_result"
    }
   ],
   "source": [
    "pstv_list"
   ]
  },
  {
   "cell_type": "code",
   "execution_count": 23,
   "metadata": {},
   "outputs": [],
   "source": [
    "states=[]\n",
    "count=[]\n",
    "try:\n",
    "    pstv_list.pop(pstv_list.index(' '))\n",
    "    pstv_list.pop(pstv_list.index('  '))\n",
    "except:\n",
    "    pass\n",
    "\n",
    "for row in pstv_list:\n",
    "    st,cnt= row.split(\":\")\n",
    "    states.append(st)\n",
    "    count.append(cnt)"
   ]
  },
  {
   "cell_type": "code",
   "execution_count": 24,
   "metadata": {},
   "outputs": [],
   "source": [
    "case_cnt=[]\n",
    "for row in count:\n",
    "    stripped=row.strip(' ')[0:2]\n",
    "    case_cnt.append(stripped.zfill(2))"
   ]
  },
  {
   "cell_type": "code",
   "execution_count": 25,
   "metadata": {},
   "outputs": [],
   "source": [
    "import pandas as pd"
   ]
  },
  {
   "cell_type": "code",
   "execution_count": 26,
   "metadata": {},
   "outputs": [],
   "source": [
    "df_states=pd.DataFrame(states[0:-1],columns=['States'])"
   ]
  },
  {
   "cell_type": "code",
   "execution_count": 27,
   "metadata": {},
   "outputs": [
    {
     "data": {
      "text/html": [
       "<div>\n",
       "<style scoped>\n",
       "    .dataframe tbody tr th:only-of-type {\n",
       "        vertical-align: middle;\n",
       "    }\n",
       "\n",
       "    .dataframe tbody tr th {\n",
       "        vertical-align: top;\n",
       "    }\n",
       "\n",
       "    .dataframe thead th {\n",
       "        text-align: right;\n",
       "    }\n",
       "</style>\n",
       "<table border=\"1\" class=\"dataframe\">\n",
       "  <thead>\n",
       "    <tr style=\"text-align: right;\">\n",
       "      <th></th>\n",
       "      <th>States</th>\n",
       "    </tr>\n",
       "  </thead>\n",
       "  <tbody>\n",
       "    <tr>\n",
       "      <th>0</th>\n",
       "      <td>Kerala</td>\n",
       "    </tr>\n",
       "    <tr>\n",
       "      <th>1</th>\n",
       "      <td>Punjab</td>\n",
       "    </tr>\n",
       "    <tr>\n",
       "      <th>2</th>\n",
       "      <td>Delhi</td>\n",
       "    </tr>\n",
       "    <tr>\n",
       "      <th>3</th>\n",
       "      <td>Jammu and Kashmir</td>\n",
       "    </tr>\n",
       "    <tr>\n",
       "      <th>4</th>\n",
       "      <td>Ladakh</td>\n",
       "    </tr>\n",
       "    <tr>\n",
       "      <th>5</th>\n",
       "      <td>Rajasthan</td>\n",
       "    </tr>\n",
       "    <tr>\n",
       "      <th>6</th>\n",
       "      <td>Uttar Pradesh</td>\n",
       "    </tr>\n",
       "    <tr>\n",
       "      <th>7</th>\n",
       "      <td>Maharashtra</td>\n",
       "    </tr>\n",
       "    <tr>\n",
       "      <th>8</th>\n",
       "      <td>Karnataka</td>\n",
       "    </tr>\n",
       "    <tr>\n",
       "      <th>9</th>\n",
       "      <td>Tamil Nadu</td>\n",
       "    </tr>\n",
       "    <tr>\n",
       "      <th>10</th>\n",
       "      <td>Telangana</td>\n",
       "    </tr>\n",
       "    <tr>\n",
       "      <th>11</th>\n",
       "      <td>Haryana</td>\n",
       "    </tr>\n",
       "    <tr>\n",
       "      <th>12</th>\n",
       "      <td>Andhra Pradesh</td>\n",
       "    </tr>\n",
       "    <tr>\n",
       "      <th>13</th>\n",
       "      <td>Himachal Pradesh</td>\n",
       "    </tr>\n",
       "    <tr>\n",
       "      <th>14</th>\n",
       "      <td>Gujarat</td>\n",
       "    </tr>\n",
       "    <tr>\n",
       "      <th>15</th>\n",
       "      <td>Uttarakhand</td>\n",
       "    </tr>\n",
       "    <tr>\n",
       "      <th>16</th>\n",
       "      <td>Odisha</td>\n",
       "    </tr>\n",
       "    <tr>\n",
       "      <th>17</th>\n",
       "      <td>West Bengal</td>\n",
       "    </tr>\n",
       "    <tr>\n",
       "      <th>18</th>\n",
       "      <td>Chandigarh</td>\n",
       "    </tr>\n",
       "    <tr>\n",
       "      <th>19</th>\n",
       "      <td>Chhattisgarh</td>\n",
       "    </tr>\n",
       "    <tr>\n",
       "      <th>20</th>\n",
       "      <td>Madhya Pradesh</td>\n",
       "    </tr>\n",
       "  </tbody>\n",
       "</table>\n",
       "</div>"
      ],
      "text/plain": [
       "                States\n",
       "0               Kerala\n",
       "1               Punjab\n",
       "2                Delhi\n",
       "3    Jammu and Kashmir\n",
       "4               Ladakh\n",
       "5            Rajasthan\n",
       "6        Uttar Pradesh\n",
       "7          Maharashtra\n",
       "8            Karnataka\n",
       "9           Tamil Nadu\n",
       "10           Telangana\n",
       "11             Haryana\n",
       "12      Andhra Pradesh\n",
       "13    Himachal Pradesh\n",
       "14             Gujarat\n",
       "15         Uttarakhand\n",
       "16              Odisha\n",
       "17         West Bengal\n",
       "18          Chandigarh\n",
       "19        Chhattisgarh\n",
       "20      Madhya Pradesh"
      ]
     },
     "execution_count": 27,
     "metadata": {},
     "output_type": "execute_result"
    }
   ],
   "source": [
    "df_states"
   ]
  },
  {
   "cell_type": "code",
   "execution_count": 28,
   "metadata": {},
   "outputs": [],
   "source": [
    "df_counts=pd.DataFrame(pd.to_numeric(case_cnt[0:-1]),columns=['Counts'])"
   ]
  },
  {
   "cell_type": "code",
   "execution_count": 29,
   "metadata": {
    "scrolled": true
   },
   "outputs": [
    {
     "data": {
      "text/html": [
       "<div>\n",
       "<style scoped>\n",
       "    .dataframe tbody tr th:only-of-type {\n",
       "        vertical-align: middle;\n",
       "    }\n",
       "\n",
       "    .dataframe tbody tr th {\n",
       "        vertical-align: top;\n",
       "    }\n",
       "\n",
       "    .dataframe thead th {\n",
       "        text-align: right;\n",
       "    }\n",
       "</style>\n",
       "<table border=\"1\" class=\"dataframe\">\n",
       "  <thead>\n",
       "    <tr style=\"text-align: right;\">\n",
       "      <th></th>\n",
       "      <th>Counts</th>\n",
       "    </tr>\n",
       "  </thead>\n",
       "  <tbody>\n",
       "    <tr>\n",
       "      <th>0</th>\n",
       "      <td>52</td>\n",
       "    </tr>\n",
       "    <tr>\n",
       "      <th>1</th>\n",
       "      <td>6</td>\n",
       "    </tr>\n",
       "    <tr>\n",
       "      <th>2</th>\n",
       "      <td>20</td>\n",
       "    </tr>\n",
       "    <tr>\n",
       "      <th>3</th>\n",
       "      <td>4</td>\n",
       "    </tr>\n",
       "    <tr>\n",
       "      <th>4</th>\n",
       "      <td>13</td>\n",
       "    </tr>\n",
       "    <tr>\n",
       "      <th>5</th>\n",
       "      <td>23</td>\n",
       "    </tr>\n",
       "    <tr>\n",
       "      <th>6</th>\n",
       "      <td>27</td>\n",
       "    </tr>\n",
       "    <tr>\n",
       "      <th>7</th>\n",
       "      <td>64</td>\n",
       "    </tr>\n",
       "    <tr>\n",
       "      <th>8</th>\n",
       "      <td>19</td>\n",
       "    </tr>\n",
       "    <tr>\n",
       "      <th>9</th>\n",
       "      <td>6</td>\n",
       "    </tr>\n",
       "    <tr>\n",
       "      <th>10</th>\n",
       "      <td>17</td>\n",
       "    </tr>\n",
       "    <tr>\n",
       "      <th>11</th>\n",
       "      <td>17</td>\n",
       "    </tr>\n",
       "    <tr>\n",
       "      <th>12</th>\n",
       "      <td>3</td>\n",
       "    </tr>\n",
       "    <tr>\n",
       "      <th>13</th>\n",
       "      <td>2</td>\n",
       "    </tr>\n",
       "    <tr>\n",
       "      <th>14</th>\n",
       "      <td>13</td>\n",
       "    </tr>\n",
       "    <tr>\n",
       "      <th>15</th>\n",
       "      <td>3</td>\n",
       "    </tr>\n",
       "    <tr>\n",
       "      <th>16</th>\n",
       "      <td>2</td>\n",
       "    </tr>\n",
       "    <tr>\n",
       "      <th>17</th>\n",
       "      <td>3</td>\n",
       "    </tr>\n",
       "    <tr>\n",
       "      <th>18</th>\n",
       "      <td>8</td>\n",
       "    </tr>\n",
       "    <tr>\n",
       "      <th>19</th>\n",
       "      <td>1</td>\n",
       "    </tr>\n",
       "    <tr>\n",
       "      <th>20</th>\n",
       "      <td>4</td>\n",
       "    </tr>\n",
       "  </tbody>\n",
       "</table>\n",
       "</div>"
      ],
      "text/plain": [
       "    Counts\n",
       "0       52\n",
       "1        6\n",
       "2       20\n",
       "3        4\n",
       "4       13\n",
       "5       23\n",
       "6       27\n",
       "7       64\n",
       "8       19\n",
       "9        6\n",
       "10      17\n",
       "11      17\n",
       "12       3\n",
       "13       2\n",
       "14      13\n",
       "15       3\n",
       "16       2\n",
       "17       3\n",
       "18       8\n",
       "19       1\n",
       "20       4"
      ]
     },
     "execution_count": 29,
     "metadata": {},
     "output_type": "execute_result"
    }
   ],
   "source": [
    "df_counts"
   ]
  },
  {
   "cell_type": "code",
   "execution_count": 30,
   "metadata": {},
   "outputs": [],
   "source": [
    "frames=[df_states,df_counts]\n",
    "df= pd.concat(frames,axis=1)"
   ]
  },
  {
   "cell_type": "code",
   "execution_count": 31,
   "metadata": {},
   "outputs": [
    {
     "data": {
      "text/html": [
       "<div>\n",
       "<style scoped>\n",
       "    .dataframe tbody tr th:only-of-type {\n",
       "        vertical-align: middle;\n",
       "    }\n",
       "\n",
       "    .dataframe tbody tr th {\n",
       "        vertical-align: top;\n",
       "    }\n",
       "\n",
       "    .dataframe thead th {\n",
       "        text-align: right;\n",
       "    }\n",
       "</style>\n",
       "<table border=\"1\" class=\"dataframe\">\n",
       "  <thead>\n",
       "    <tr style=\"text-align: right;\">\n",
       "      <th></th>\n",
       "      <th>States</th>\n",
       "      <th>Counts</th>\n",
       "    </tr>\n",
       "  </thead>\n",
       "  <tbody>\n",
       "    <tr>\n",
       "      <th>0</th>\n",
       "      <td>Kerala</td>\n",
       "      <td>52</td>\n",
       "    </tr>\n",
       "    <tr>\n",
       "      <th>1</th>\n",
       "      <td>Punjab</td>\n",
       "      <td>6</td>\n",
       "    </tr>\n",
       "    <tr>\n",
       "      <th>2</th>\n",
       "      <td>Delhi</td>\n",
       "      <td>20</td>\n",
       "    </tr>\n",
       "    <tr>\n",
       "      <th>3</th>\n",
       "      <td>Jammu and Kashmir</td>\n",
       "      <td>4</td>\n",
       "    </tr>\n",
       "    <tr>\n",
       "      <th>4</th>\n",
       "      <td>Ladakh</td>\n",
       "      <td>13</td>\n",
       "    </tr>\n",
       "    <tr>\n",
       "      <th>5</th>\n",
       "      <td>Rajasthan</td>\n",
       "      <td>23</td>\n",
       "    </tr>\n",
       "    <tr>\n",
       "      <th>6</th>\n",
       "      <td>Uttar Pradesh</td>\n",
       "      <td>27</td>\n",
       "    </tr>\n",
       "    <tr>\n",
       "      <th>7</th>\n",
       "      <td>Maharashtra</td>\n",
       "      <td>64</td>\n",
       "    </tr>\n",
       "    <tr>\n",
       "      <th>8</th>\n",
       "      <td>Karnataka</td>\n",
       "      <td>19</td>\n",
       "    </tr>\n",
       "    <tr>\n",
       "      <th>9</th>\n",
       "      <td>Tamil Nadu</td>\n",
       "      <td>6</td>\n",
       "    </tr>\n",
       "    <tr>\n",
       "      <th>10</th>\n",
       "      <td>Telangana</td>\n",
       "      <td>17</td>\n",
       "    </tr>\n",
       "    <tr>\n",
       "      <th>11</th>\n",
       "      <td>Haryana</td>\n",
       "      <td>17</td>\n",
       "    </tr>\n",
       "    <tr>\n",
       "      <th>12</th>\n",
       "      <td>Andhra Pradesh</td>\n",
       "      <td>3</td>\n",
       "    </tr>\n",
       "    <tr>\n",
       "      <th>13</th>\n",
       "      <td>Himachal Pradesh</td>\n",
       "      <td>2</td>\n",
       "    </tr>\n",
       "    <tr>\n",
       "      <th>14</th>\n",
       "      <td>Gujarat</td>\n",
       "      <td>13</td>\n",
       "    </tr>\n",
       "    <tr>\n",
       "      <th>15</th>\n",
       "      <td>Uttarakhand</td>\n",
       "      <td>3</td>\n",
       "    </tr>\n",
       "    <tr>\n",
       "      <th>16</th>\n",
       "      <td>Odisha</td>\n",
       "      <td>2</td>\n",
       "    </tr>\n",
       "    <tr>\n",
       "      <th>17</th>\n",
       "      <td>West Bengal</td>\n",
       "      <td>3</td>\n",
       "    </tr>\n",
       "    <tr>\n",
       "      <th>18</th>\n",
       "      <td>Chandigarh</td>\n",
       "      <td>8</td>\n",
       "    </tr>\n",
       "    <tr>\n",
       "      <th>19</th>\n",
       "      <td>Chhattisgarh</td>\n",
       "      <td>1</td>\n",
       "    </tr>\n",
       "    <tr>\n",
       "      <th>20</th>\n",
       "      <td>Madhya Pradesh</td>\n",
       "      <td>4</td>\n",
       "    </tr>\n",
       "  </tbody>\n",
       "</table>\n",
       "</div>"
      ],
      "text/plain": [
       "                States  Counts\n",
       "0               Kerala      52\n",
       "1               Punjab       6\n",
       "2                Delhi      20\n",
       "3    Jammu and Kashmir       4\n",
       "4               Ladakh      13\n",
       "5            Rajasthan      23\n",
       "6        Uttar Pradesh      27\n",
       "7          Maharashtra      64\n",
       "8            Karnataka      19\n",
       "9           Tamil Nadu       6\n",
       "10           Telangana      17\n",
       "11             Haryana      17\n",
       "12      Andhra Pradesh       3\n",
       "13    Himachal Pradesh       2\n",
       "14             Gujarat      13\n",
       "15         Uttarakhand       3\n",
       "16              Odisha       2\n",
       "17         West Bengal       3\n",
       "18          Chandigarh       8\n",
       "19        Chhattisgarh       1\n",
       "20      Madhya Pradesh       4"
      ]
     },
     "execution_count": 31,
     "metadata": {},
     "output_type": "execute_result"
    }
   ],
   "source": [
    "df"
   ]
  },
  {
   "cell_type": "code",
   "execution_count": 32,
   "metadata": {},
   "outputs": [],
   "source": [
    "sorted_df=df.sort_values('Counts')\n",
    "\n",
    "df_sorted=sorted_df.tail(3)\n"
   ]
  },
  {
   "cell_type": "code",
   "execution_count": 33,
   "metadata": {},
   "outputs": [
    {
     "data": {
      "text/html": [
       "<div>\n",
       "<style scoped>\n",
       "    .dataframe tbody tr th:only-of-type {\n",
       "        vertical-align: middle;\n",
       "    }\n",
       "\n",
       "    .dataframe tbody tr th {\n",
       "        vertical-align: top;\n",
       "    }\n",
       "\n",
       "    .dataframe thead th {\n",
       "        text-align: right;\n",
       "    }\n",
       "</style>\n",
       "<table border=\"1\" class=\"dataframe\">\n",
       "  <thead>\n",
       "    <tr style=\"text-align: right;\">\n",
       "      <th></th>\n",
       "      <th>States</th>\n",
       "      <th>Counts</th>\n",
       "    </tr>\n",
       "  </thead>\n",
       "  <tbody>\n",
       "    <tr>\n",
       "      <th>6</th>\n",
       "      <td>Uttar Pradesh</td>\n",
       "      <td>27</td>\n",
       "    </tr>\n",
       "    <tr>\n",
       "      <th>0</th>\n",
       "      <td>Kerala</td>\n",
       "      <td>52</td>\n",
       "    </tr>\n",
       "    <tr>\n",
       "      <th>7</th>\n",
       "      <td>Maharashtra</td>\n",
       "      <td>64</td>\n",
       "    </tr>\n",
       "  </tbody>\n",
       "</table>\n",
       "</div>"
      ],
      "text/plain": [
       "           States  Counts\n",
       "6   Uttar Pradesh      27\n",
       "0          Kerala      52\n",
       "7     Maharashtra      64"
      ]
     },
     "execution_count": 33,
     "metadata": {},
     "output_type": "execute_result"
    }
   ],
   "source": [
    "df_sorted"
   ]
  },
  {
   "cell_type": "code",
   "execution_count": 34,
   "metadata": {},
   "outputs": [
    {
     "name": "stdout",
     "output_type": "stream",
     "text": [
      "2020-03-21\n"
     ]
    }
   ],
   "source": [
    "from datetime import date\n",
    "from datetime import datetime\n",
    "\n",
    "Survey_date=date.today()\n",
    "print(Survey_date)\n",
    "\n",
    "time_now=datetime.now()\n",
    "time_format=str(time_now)[:-7]\n",
    "\n"
   ]
  },
  {
   "cell_type": "code",
   "execution_count": 35,
   "metadata": {},
   "outputs": [],
   "source": [
    "Header_content=str(content)"
   ]
  },
  {
   "cell_type": "code",
   "execution_count": 36,
   "metadata": {},
   "outputs": [
    {
     "name": "stdout",
     "output_type": "stream",
     "text": [
      "Total number of positive cases in India: 307 as of March 21.\n",
      "The spread of novel coronavirus in India has created panic in the country. After the first confirmed positive case was reported on January 30 in Kerala, the epidemic has reached many other cities in the country, infecting several people., The novel coronavirus, which originated in China, has claimed thousands of lives across the globe. With no known cure so far for the disease, COVID-19 has become a major issue for the entire world., Follow live updates of coronavirus cases in India here, While the impact of the novel coronavirus has been the most in China and Italy, India also is within its grasp. After making its presence in Kerala first, the novel coronavirus reached other cities/regions including Bengaluru, Pune, Delhi, Jaipur, Agra, Hyderabad, Jammu and Kashmir among others., \n"
     ]
    }
   ],
   "source": [
    "for c in '[\"\"]':\n",
    "    Header_content=Header_content.replace(c,'')\n",
    "\n",
    "    \n",
    "final_content=Totl_case_str+'.\\n'+Header_content\n",
    "final_cnt= final_content.replace(\"'\",'')\n",
    "\n",
    "print(final_cnt)"
   ]
  },
  {
   "cell_type": "code",
   "execution_count": 37,
   "metadata": {},
   "outputs": [
    {
     "data": {
      "image/png": "[encoded data removed]",
      "text/plain": [
       "<Figure size 432x288 with 1 Axes>"
      ]
     },
     "metadata": {
      "needs_background": "light"
     },
     "output_type": "display_data"
    }
   ],
   "source": [
    "df.plot(kind='bar',x='States',y='Counts',color='grey')\n",
    "\n",
    "plt.ylabel('Counts')\n",
    "plt.title(\"State wise  COVID-19 positive case\")\n",
    "\n",
    "plt.figtext(.8,.7,\"Date:\"+str(Survey_date),ha=\"center\",color='black',size='medium')\n",
    "\n",
    "plt.savefig('Bar Chart '+str(Survey_date)+' .png',bbox_inches='tight')\n",
    "plt.show()\n",
    "\n"
   ]
  },
  {
   "cell_type": "code",
   "execution_count": 38,
   "metadata": {},
   "outputs": [],
   "source": [
    "from reportlab.lib.pagesizes import letter, landscape\n",
    "from reportlab.platypus import Paragraph, Frame, KeepInFrame\n",
    "from reportlab.lib.styles import getSampleStyleSheet\n",
    "from reportlab.lib.units import inch\n",
    "\n",
    "c =canvas.Canvas(\"COVID-19 \"+str(Survey_date)+\".pdf\", pagesize=landscape(letter))\n",
    "frame1 = Frame(1*inch, 1*inch, 5*inch, 5*inch)\n",
    "c.drawImage('Bar Chart '+str(Survey_date)+' .png',400,300, width=300,height=300)\n",
    "\n",
    "styles = getSampleStyleSheet()\n",
    "story = [Paragraph(final_cnt, styles['Normal'])]\n",
    "story_inframe = KeepInFrame(4*inch, 4*inch, story)\n",
    "frame1.addFromList([story_inframe], c)\n",
    "c.save()\n"
   ]
  }
 ],
 "metadata": {
  "kernelspec": {
   "display_name": "Python 3",
   "language": "python",
   "name": "python3"
  },
  "language_info": {
   "codemirror_mode": {
    "name": "ipython",
    "version": 3
   },
   "file_extension": ".py",
   "mimetype": "text/x-python",
   "name": "python",
   "nbconvert_exporter": "python",
   "pygments_lexer": "ipython3",
   "version": "3.6.4"
  }
 },
 "nbformat": 4,
 "nbformat_minor": 2
}
